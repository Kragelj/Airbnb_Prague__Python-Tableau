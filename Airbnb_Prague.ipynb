{
 "cells": [
  {
   "cell_type": "markdown",
   "id": "47d131f0-ea53-401e-935f-660e00a7cdbb",
   "metadata": {},
   "source": [
    "# Project: Airbnb analysis - Prague"
   ]
  },
  {
   "cell_type": "markdown",
   "id": "ed7303bd-3a3c-48fd-838d-21d2be473873",
   "metadata": {},
   "source": [
    "### Introduction"
   ]
  },
  {
   "cell_type": "markdown",
   "id": "10d43e7c-89f5-4dd8-8ce0-98b1f9b589a1",
   "metadata": {},
   "source": [
    "This case study explores the current Airbnb listings in Prague, providing a comprehensive breakdown of data by city district. We analyze spatial distribution, price trends, and accommodation types to uncover key patterns in the short-term rental market.\n",
    "<br>To enrich our findings, we incorporate insights from the real estate sector, examining apartment selling prices across different districts."
   ]
  },
  {
   "cell_type": "markdown",
   "id": "61c6b970-bf3d-45d3-9b3a-57d3c5e4d896",
   "metadata": {},
   "source": [
    "#### About the Dataset"
   ]
  },
  {
   "cell_type": "markdown",
   "id": "b09e971e-6b65-4c38-b4d2-31b18348ddde",
   "metadata": {},
   "source": [
    "The dataset originates from Inside Airbnb website and includes the latest available data from March 2025. To provide a broader perspective, we also incorporate quarterly data from the past year for comparative analysis.\n",
    "<br>However, the dataset comes with several limitations:\n",
    "<br>- not all Airbnb listings are included (only those currently available),\n",
    "<br>- key details such as the maximum number of guests per listing and room size are missing,\n",
    "<br>- occupancy data may be affected by blocked dates, not just actual bookings.\n",
    "<br>Despite these constraints, the dataset remains highly valuable for this case study, offering meaningful insights into the Prague Airbnb market."
   ]
  },
  {
   "cell_type": "markdown",
   "id": "5ce16ee4-ffeb-4738-9a0a-c13dd5282c97",
   "metadata": {},
   "source": [
    "#### Our Goal"
   ]
  },
  {
   "cell_type": "markdown",
   "id": "003b839f-68c1-4827-80ae-8a9e881f65ea",
   "metadata": {},
   "source": [
    "The goal of this Airbnb analysis is to gain a deeper understanding of the short-term rental market in Prague, helping hosts, investors, and travelers make better decisions.\n",
    "<br>Specifically, the study aims to identify and assess market trends by analyzing pricing patterns, neighborhood distribution, and accommodation types. We also compare Airbnb profitability with real estate selling prices to gauge the financial viability of short-term rentals in different districts.\n",
    "<br>\n",
    "<br>By using Python and a data-driven approach, this study will provide valuable insights into the evolving Airbnb landscape in Prague."
   ]
  },
  {
   "cell_type": "markdown",
   "id": "c4ed7a67-b121-41c2-bb37-f18e96d6b13a",
   "metadata": {},
   "source": [
    "### 1. Data Exploration"
   ]
  },
  {
   "cell_type": "code",
   "execution_count": 3,
   "id": "03487f0b-5edd-4fac-b244-622d08e6ec6d",
   "metadata": {},
   "outputs": [],
   "source": [
    "import pandas as pd\n",
    "# data manipulation, analysis"
   ]
  },
  {
   "cell_type": "markdown",
   "id": "90b7b88a-6a12-4a4e-b115-f0405a4d4af3",
   "metadata": {},
   "source": [
    "##### Importing the dataset"
   ]
  },
  {
   "cell_type": "code",
   "execution_count": 7,
   "id": "408f5815-aa6f-43a2-bd68-6066230f9fd7",
   "metadata": {},
   "outputs": [],
   "source": [
    "df = pd.read_csv(r\"listings-short-03-2025.csv\")"
   ]
  },
  {
   "cell_type": "markdown",
   "id": "1d8f885f-0649-4e88-a1a6-6b721696ba11",
   "metadata": {},
   "source": [
    "##### Making a copy of the dataframe"
   ]
  },
  {
   "cell_type": "code",
   "execution_count": 9,
   "id": "12aef33d-d291-4d47-8aab-436524d95f5e",
   "metadata": {},
   "outputs": [],
   "source": [
    "df_1 = df.copy()"
   ]
  },
  {
   "cell_type": "markdown",
   "id": "68c6e31a-49da-44b4-b431-2f96736ff6e7",
   "metadata": {},
   "source": [
    "##### Basic information about the dataframe"
   ]
  },
  {
   "cell_type": "code",
   "execution_count": 12,
   "id": "593a92f6-01ce-4d58-9a8b-551d460ab0ce",
   "metadata": {},
   "outputs": [
    {
     "data": {
      "text/plain": [
       "(10108, 18)"
      ]
     },
     "execution_count": 12,
     "metadata": {},
     "output_type": "execute_result"
    }
   ],
   "source": [
    "df_1.shape"
   ]
  },
  {
   "cell_type": "code",
   "execution_count": 20,
   "id": "9e214bc4-ab04-4ff5-bb22-67e589f2b50b",
   "metadata": {},
   "outputs": [
    {
     "name": "stdout",
     "output_type": "stream",
     "text": [
      "<class 'pandas.core.frame.DataFrame'>\n",
      "RangeIndex: 10108 entries, 0 to 10107\n",
      "Data columns (total 18 columns):\n",
      " #   Column                          Non-Null Count  Dtype  \n",
      "---  ------                          --------------  -----  \n",
      " 0   id                              10108 non-null  int64  \n",
      " 1   name                            10108 non-null  object \n",
      " 2   host_id                         10108 non-null  int64  \n",
      " 3   host_name                       10107 non-null  object \n",
      " 4   neighbourhood_group             0 non-null      float64\n",
      " 5   neighbourhood                   10108 non-null  object \n",
      " 6   latitude                        10108 non-null  float64\n",
      " 7   longitude                       10108 non-null  float64\n",
      " 8   room_type                       10108 non-null  object \n",
      " 9   price                           8808 non-null   float64\n",
      " 10  minimum_nights                  10108 non-null  int64  \n",
      " 11  number_of_reviews               10108 non-null  int64  \n",
      " 12  last_review                     9133 non-null   object \n",
      " 13  reviews_per_month               9133 non-null   float64\n",
      " 14  calculated_host_listings_count  10108 non-null  int64  \n",
      " 15  availability_365                10108 non-null  int64  \n",
      " 16  number_of_reviews_ltm           10108 non-null  int64  \n",
      " 17  license                         0 non-null      float64\n",
      "dtypes: float64(6), int64(7), object(5)\n",
      "memory usage: 1.4+ MB\n"
     ]
    }
   ],
   "source": [
    "df_1.info()"
   ]
  },
  {
   "cell_type": "code",
   "execution_count": 22,
   "id": "e9df38d0-a718-4f58-9a14-7302a3e07370",
   "metadata": {},
   "outputs": [
    {
     "data": {
      "text/html": [
       "<div>\n",
       "<style scoped>\n",
       "    .dataframe tbody tr th:only-of-type {\n",
       "        vertical-align: middle;\n",
       "    }\n",
       "\n",
       "    .dataframe tbody tr th {\n",
       "        vertical-align: top;\n",
       "    }\n",
       "\n",
       "    .dataframe thead th {\n",
       "        text-align: right;\n",
       "    }\n",
       "</style>\n",
       "<table border=\"1\" class=\"dataframe\">\n",
       "  <thead>\n",
       "    <tr style=\"text-align: right;\">\n",
       "      <th></th>\n",
       "      <th>id</th>\n",
       "      <th>name</th>\n",
       "      <th>host_id</th>\n",
       "      <th>host_name</th>\n",
       "      <th>neighbourhood_group</th>\n",
       "      <th>neighbourhood</th>\n",
       "      <th>latitude</th>\n",
       "      <th>longitude</th>\n",
       "      <th>room_type</th>\n",
       "      <th>price</th>\n",
       "      <th>minimum_nights</th>\n",
       "      <th>number_of_reviews</th>\n",
       "      <th>last_review</th>\n",
       "      <th>reviews_per_month</th>\n",
       "      <th>calculated_host_listings_count</th>\n",
       "      <th>availability_365</th>\n",
       "      <th>number_of_reviews_ltm</th>\n",
       "      <th>license</th>\n",
       "    </tr>\n",
       "  </thead>\n",
       "  <tbody>\n",
       "    <tr>\n",
       "      <th>0</th>\n",
       "      <td>23163</td>\n",
       "      <td>Residence Karolina - KAROL12</td>\n",
       "      <td>5282</td>\n",
       "      <td>Klara</td>\n",
       "      <td>NaN</td>\n",
       "      <td>Praha 1</td>\n",
       "      <td>50.08229</td>\n",
       "      <td>14.41552</td>\n",
       "      <td>Entire home/apt</td>\n",
       "      <td>2918.0</td>\n",
       "      <td>1</td>\n",
       "      <td>31</td>\n",
       "      <td>2024-06-15</td>\n",
       "      <td>0.18</td>\n",
       "      <td>70</td>\n",
       "      <td>0</td>\n",
       "      <td>1</td>\n",
       "      <td>NaN</td>\n",
       "    </tr>\n",
       "    <tr>\n",
       "      <th>1</th>\n",
       "      <td>23169</td>\n",
       "      <td>Residence Masna - Masna302</td>\n",
       "      <td>5282</td>\n",
       "      <td>Klara</td>\n",
       "      <td>NaN</td>\n",
       "      <td>Praha 1</td>\n",
       "      <td>50.08830</td>\n",
       "      <td>14.42272</td>\n",
       "      <td>Entire home/apt</td>\n",
       "      <td>NaN</td>\n",
       "      <td>1</td>\n",
       "      <td>122</td>\n",
       "      <td>2024-11-08</td>\n",
       "      <td>0.67</td>\n",
       "      <td>70</td>\n",
       "      <td>13</td>\n",
       "      <td>6</td>\n",
       "      <td>NaN</td>\n",
       "    </tr>\n",
       "    <tr>\n",
       "      <th>2</th>\n",
       "      <td>26755</td>\n",
       "      <td>Central Prague Old Town Top Floor</td>\n",
       "      <td>113902</td>\n",
       "      <td>Daniel+Bea</td>\n",
       "      <td>NaN</td>\n",
       "      <td>Praha 1</td>\n",
       "      <td>50.08729</td>\n",
       "      <td>14.43179</td>\n",
       "      <td>Entire home/apt</td>\n",
       "      <td>1582.0</td>\n",
       "      <td>3</td>\n",
       "      <td>411</td>\n",
       "      <td>2025-03-07</td>\n",
       "      <td>3.43</td>\n",
       "      <td>3</td>\n",
       "      <td>173</td>\n",
       "      <td>53</td>\n",
       "      <td>NaN</td>\n",
       "    </tr>\n",
       "    <tr>\n",
       "      <th>3</th>\n",
       "      <td>30762</td>\n",
       "      <td>Residence Rybna - Rybna23</td>\n",
       "      <td>5282</td>\n",
       "      <td>Klara</td>\n",
       "      <td>NaN</td>\n",
       "      <td>Praha 1</td>\n",
       "      <td>50.08821</td>\n",
       "      <td>14.42623</td>\n",
       "      <td>Entire home/apt</td>\n",
       "      <td>NaN</td>\n",
       "      <td>1</td>\n",
       "      <td>16</td>\n",
       "      <td>2023-10-30</td>\n",
       "      <td>0.09</td>\n",
       "      <td>70</td>\n",
       "      <td>33</td>\n",
       "      <td>0</td>\n",
       "      <td>NaN</td>\n",
       "    </tr>\n",
       "    <tr>\n",
       "      <th>4</th>\n",
       "      <td>42514</td>\n",
       "      <td>\"NEWLY FURNISHED\" 1BR near Pachtuv Palace,Old ...</td>\n",
       "      <td>185641</td>\n",
       "      <td>Victoria</td>\n",
       "      <td>NaN</td>\n",
       "      <td>Praha 1</td>\n",
       "      <td>50.08228</td>\n",
       "      <td>14.41345</td>\n",
       "      <td>Entire home/apt</td>\n",
       "      <td>2736.0</td>\n",
       "      <td>7</td>\n",
       "      <td>333</td>\n",
       "      <td>2023-04-30</td>\n",
       "      <td>1.88</td>\n",
       "      <td>1</td>\n",
       "      <td>362</td>\n",
       "      <td>0</td>\n",
       "      <td>NaN</td>\n",
       "    </tr>\n",
       "  </tbody>\n",
       "</table>\n",
       "</div>"
      ],
      "text/plain": [
       "      id                                               name  host_id  \\\n",
       "0  23163                       Residence Karolina - KAROL12     5282   \n",
       "1  23169                         Residence Masna - Masna302     5282   \n",
       "2  26755                  Central Prague Old Town Top Floor   113902   \n",
       "3  30762                          Residence Rybna - Rybna23     5282   \n",
       "4  42514  \"NEWLY FURNISHED\" 1BR near Pachtuv Palace,Old ...   185641   \n",
       "\n",
       "    host_name  neighbourhood_group neighbourhood  latitude  longitude  \\\n",
       "0       Klara                  NaN       Praha 1  50.08229   14.41552   \n",
       "1       Klara                  NaN       Praha 1  50.08830   14.42272   \n",
       "2  Daniel+Bea                  NaN       Praha 1  50.08729   14.43179   \n",
       "3       Klara                  NaN       Praha 1  50.08821   14.42623   \n",
       "4    Victoria                  NaN       Praha 1  50.08228   14.41345   \n",
       "\n",
       "         room_type   price  minimum_nights  number_of_reviews last_review  \\\n",
       "0  Entire home/apt  2918.0               1                 31  2024-06-15   \n",
       "1  Entire home/apt     NaN               1                122  2024-11-08   \n",
       "2  Entire home/apt  1582.0               3                411  2025-03-07   \n",
       "3  Entire home/apt     NaN               1                 16  2023-10-30   \n",
       "4  Entire home/apt  2736.0               7                333  2023-04-30   \n",
       "\n",
       "   reviews_per_month  calculated_host_listings_count  availability_365  \\\n",
       "0               0.18                              70                 0   \n",
       "1               0.67                              70                13   \n",
       "2               3.43                               3               173   \n",
       "3               0.09                              70                33   \n",
       "4               1.88                               1               362   \n",
       "\n",
       "   number_of_reviews_ltm  license  \n",
       "0                      1      NaN  \n",
       "1                      6      NaN  \n",
       "2                     53      NaN  \n",
       "3                      0      NaN  \n",
       "4                      0      NaN  "
      ]
     },
     "execution_count": 22,
     "metadata": {},
     "output_type": "execute_result"
    }
   ],
   "source": [
    "df_1.head()"
   ]
  },
  {
   "cell_type": "markdown",
   "id": "f0dfaaa3-0748-4228-a14b-330125e1689f",
   "metadata": {},
   "source": [
    "#### Compare the number of listings to previous quarters"
   ]
  },
  {
   "cell_type": "code",
   "execution_count": 25,
   "id": "85380c86-1fae-4730-9c47-451ec9548f38",
   "metadata": {},
   "outputs": [
    {
     "data": {
      "text/html": [
       "<div>\n",
       "<style scoped>\n",
       "    .dataframe tbody tr th:only-of-type {\n",
       "        vertical-align: middle;\n",
       "    }\n",
       "\n",
       "    .dataframe tbody tr th {\n",
       "        vertical-align: top;\n",
       "    }\n",
       "\n",
       "    .dataframe thead th {\n",
       "        text-align: right;\n",
       "    }\n",
       "</style>\n",
       "<table border=\"1\" class=\"dataframe\">\n",
       "  <thead>\n",
       "    <tr style=\"text-align: right;\">\n",
       "      <th></th>\n",
       "      <th>month</th>\n",
       "      <th>listings</th>\n",
       "    </tr>\n",
       "  </thead>\n",
       "  <tbody>\n",
       "    <tr>\n",
       "      <th>0</th>\n",
       "      <td>03_2024</td>\n",
       "      <td>8366</td>\n",
       "    </tr>\n",
       "    <tr>\n",
       "      <th>1</th>\n",
       "      <td>06_2024</td>\n",
       "      <td>9066</td>\n",
       "    </tr>\n",
       "    <tr>\n",
       "      <th>2</th>\n",
       "      <td>09_2024</td>\n",
       "      <td>9460</td>\n",
       "    </tr>\n",
       "    <tr>\n",
       "      <th>3</th>\n",
       "      <td>12_2024</td>\n",
       "      <td>9929</td>\n",
       "    </tr>\n",
       "    <tr>\n",
       "      <th>4</th>\n",
       "      <td>03_2025</td>\n",
       "      <td>10108</td>\n",
       "    </tr>\n",
       "  </tbody>\n",
       "</table>\n",
       "</div>"
      ],
      "text/plain": [
       "     month  listings\n",
       "0  03_2024      8366\n",
       "1  06_2024      9066\n",
       "2  09_2024      9460\n",
       "3  12_2024      9929\n",
       "4  03_2025     10108"
      ]
     },
     "execution_count": 25,
     "metadata": {},
     "output_type": "execute_result"
    }
   ],
   "source": [
    "df_listings = pd.read_excel(r\"listings count per Q.xlsx\")\n",
    "df_listings"
   ]
  },
  {
   "cell_type": "markdown",
   "id": "538085fb-f431-48da-8e63-afec9c2088d2",
   "metadata": {},
   "source": [
    "We can observe a steady rise of listings with every quarter. With 21% rise on year-to-year basis."
   ]
  },
  {
   "cell_type": "markdown",
   "id": "a5291a13-5e7a-4678-a9b4-38c63772613c",
   "metadata": {},
   "source": [
    "### 2. Data Cleaning"
   ]
  },
  {
   "cell_type": "markdown",
   "id": "0d22d769-8042-4351-bd52-fa86f2bff63c",
   "metadata": {
    "jp-MarkdownHeadingCollapsed": true
   },
   "source": [
    "#### Columns overview\n",
    "**id, name** - property unique id and name, usually coming with a catchy phrase\n",
    "<br>**host_id, host_name, calculated_host_listings_count** - information about hosts, number of properties available on AirBnB by the host\n",
    "<br>**neighbourhood_group, neighbourhood, latitude, longitude** - spatial data\n",
    "<br>**room_type** - we have 4 different categories of room types\n",
    "<br>**price** - price per one night in local currency\n",
    "<br>**minimum_nights** - restrictions of minimum night per stay\n",
    "<br>**number_of_reviews, last_review, reviews_per_month, number_of_reviews_ltm** - information about reviews from guests *(ltm - last 12 months)*\n",
    "<br>**availability_365** - availability of the listing for 365 days in the future\n",
    "<br>**license** - regulation is not strictly enforced in Prague (new legislative coming up)"
   ]
  },
  {
   "cell_type": "markdown",
   "id": "e11e3df1-9a27-46f2-8656-c918a9c38f31",
   "metadata": {},
   "source": [
    "#### Dropping columns with Null values"
   ]
  },
  {
   "cell_type": "code",
   "execution_count": 31,
   "id": "6e011c37-0408-44a4-9a08-11a489288d74",
   "metadata": {},
   "outputs": [
    {
     "data": {
      "text/plain": [
       "id                                    0\n",
       "name                                  0\n",
       "host_id                               0\n",
       "host_name                             1\n",
       "neighbourhood_group               10108\n",
       "neighbourhood                         0\n",
       "latitude                              0\n",
       "longitude                             0\n",
       "room_type                             0\n",
       "price                              1300\n",
       "minimum_nights                        0\n",
       "number_of_reviews                     0\n",
       "last_review                         975\n",
       "reviews_per_month                   975\n",
       "calculated_host_listings_count        0\n",
       "availability_365                      0\n",
       "number_of_reviews_ltm                 0\n",
       "license                           10108\n",
       "dtype: int64"
      ]
     },
     "execution_count": 31,
     "metadata": {},
     "output_type": "execute_result"
    }
   ],
   "source": [
    "df_1.isnull().sum()"
   ]
  },
  {
   "cell_type": "code",
   "execution_count": 33,
   "id": "3c403292-7070-4d06-9416-443ff7a4a85d",
   "metadata": {},
   "outputs": [],
   "source": [
    "df_1.drop(columns=[\"neighbourhood_group\", \"license\"], inplace=True)"
   ]
  },
  {
   "cell_type": "code",
   "execution_count": 35,
   "id": "2831af62-47fc-47fd-b272-af0258b3a777",
   "metadata": {},
   "outputs": [
    {
     "name": "stdout",
     "output_type": "stream",
     "text": [
      "<class 'pandas.core.frame.DataFrame'>\n",
      "RangeIndex: 10108 entries, 0 to 10107\n",
      "Data columns (total 16 columns):\n",
      " #   Column                          Non-Null Count  Dtype  \n",
      "---  ------                          --------------  -----  \n",
      " 0   id                              10108 non-null  int64  \n",
      " 1   name                            10108 non-null  object \n",
      " 2   host_id                         10108 non-null  int64  \n",
      " 3   host_name                       10107 non-null  object \n",
      " 4   neighbourhood                   10108 non-null  object \n",
      " 5   latitude                        10108 non-null  float64\n",
      " 6   longitude                       10108 non-null  float64\n",
      " 7   room_type                       10108 non-null  object \n",
      " 8   price                           8808 non-null   float64\n",
      " 9   minimum_nights                  10108 non-null  int64  \n",
      " 10  number_of_reviews               10108 non-null  int64  \n",
      " 11  last_review                     9133 non-null   object \n",
      " 12  reviews_per_month               9133 non-null   float64\n",
      " 13  calculated_host_listings_count  10108 non-null  int64  \n",
      " 14  availability_365                10108 non-null  int64  \n",
      " 15  number_of_reviews_ltm           10108 non-null  int64  \n",
      "dtypes: float64(4), int64(7), object(5)\n",
      "memory usage: 1.2+ MB\n"
     ]
    }
   ],
   "source": [
    "df_1.info()"
   ]
  },
  {
   "cell_type": "markdown",
   "id": "154fe444-9d3e-4de9-8c63-1cf331967470",
   "metadata": {},
   "source": [
    "Null values in the *last_review* and *reviews_per_month* columns may suggest that the property is newly listed (in *number_of_reviews_ltm* column this value is equal to zero)."
   ]
  },
  {
   "cell_type": "markdown",
   "id": "f61dd216-15fd-43e7-ab41-8a0c5c5bf4f2",
   "metadata": {},
   "source": [
    "#### Dropping rows with Null price values"
   ]
  },
  {
   "cell_type": "code",
   "execution_count": 39,
   "id": "6bfe85b3-b6fb-49c1-846e-b8f459b00d19",
   "metadata": {},
   "outputs": [
    {
     "data": {
      "text/plain": [
       "1300"
      ]
     },
     "execution_count": 39,
     "metadata": {},
     "output_type": "execute_result"
    }
   ],
   "source": [
    "df_1[\"price\"].isnull().sum()"
   ]
  },
  {
   "cell_type": "code",
   "execution_count": 41,
   "id": "c29f9d5b-6e92-4cce-8325-cc4a47b191bd",
   "metadata": {},
   "outputs": [],
   "source": [
    "df_2 = df_1.dropna(axis=0, how=\"any\", subset=[\"price\"])"
   ]
  },
  {
   "cell_type": "code",
   "execution_count": 43,
   "id": "4c20231a-bfae-44e0-9a5e-83ee2df7387d",
   "metadata": {},
   "outputs": [
    {
     "name": "stdout",
     "output_type": "stream",
     "text": [
      "<class 'pandas.core.frame.DataFrame'>\n",
      "Index: 8808 entries, 0 to 10107\n",
      "Data columns (total 16 columns):\n",
      " #   Column                          Non-Null Count  Dtype  \n",
      "---  ------                          --------------  -----  \n",
      " 0   id                              8808 non-null   int64  \n",
      " 1   name                            8808 non-null   object \n",
      " 2   host_id                         8808 non-null   int64  \n",
      " 3   host_name                       8807 non-null   object \n",
      " 4   neighbourhood                   8808 non-null   object \n",
      " 5   latitude                        8808 non-null   float64\n",
      " 6   longitude                       8808 non-null   float64\n",
      " 7   room_type                       8808 non-null   object \n",
      " 8   price                           8808 non-null   float64\n",
      " 9   minimum_nights                  8808 non-null   int64  \n",
      " 10  number_of_reviews               8808 non-null   int64  \n",
      " 11  last_review                     8040 non-null   object \n",
      " 12  reviews_per_month               8040 non-null   float64\n",
      " 13  calculated_host_listings_count  8808 non-null   int64  \n",
      " 14  availability_365                8808 non-null   int64  \n",
      " 15  number_of_reviews_ltm           8808 non-null   int64  \n",
      "dtypes: float64(4), int64(7), object(5)\n",
      "memory usage: 1.1+ MB\n"
     ]
    }
   ],
   "source": [
    "df_2.info()"
   ]
  },
  {
   "cell_type": "markdown",
   "id": "ff1f0b3b-832d-4cf5-8e9c-53a06a8d083e",
   "metadata": {},
   "source": [
    "##### Report"
   ]
  },
  {
   "cell_type": "code",
   "execution_count": 46,
   "id": "61b282b6-396d-421b-957e-9fb0ac2b5296",
   "metadata": {},
   "outputs": [
    {
     "name": "stdout",
     "output_type": "stream",
     "text": [
      "There were 1300 rows deleted.\n",
      "A total of 12.86% records were removed.\n"
     ]
    }
   ],
   "source": [
    "dropped = df_1.shape[0] - df_2.shape[0]\n",
    "print('There were ' + str(dropped) + ' rows deleted.')\n",
    "percent_dropped = dropped / df_1.shape[0] * 100\n",
    "print('A total of ' + str(round(percent_dropped, 2)) + '% records were removed.')"
   ]
  },
  {
   "cell_type": "markdown",
   "id": "6d6e33a8-3562-44d0-918e-8cace93151e0",
   "metadata": {},
   "source": [
    "### Data Preparation for Analysis"
   ]
  },
  {
   "cell_type": "code",
   "execution_count": 49,
   "id": "c0f13c3e-15a0-468b-a4a9-5d202d4e7a88",
   "metadata": {},
   "outputs": [],
   "source": [
    "import numpy as np\n",
    "import seaborn as sns\n",
    "import matplotlib.pyplot as plt\n",
    "# plotting and visualization"
   ]
  },
  {
   "cell_type": "code",
   "execution_count": 50,
   "id": "378e0ba9-b25e-460d-8c2d-6c2455e5b3c6",
   "metadata": {},
   "outputs": [
    {
     "data": {
      "text/html": [
       "<div>\n",
       "<style scoped>\n",
       "    .dataframe tbody tr th:only-of-type {\n",
       "        vertical-align: middle;\n",
       "    }\n",
       "\n",
       "    .dataframe tbody tr th {\n",
       "        vertical-align: top;\n",
       "    }\n",
       "\n",
       "    .dataframe thead th {\n",
       "        text-align: right;\n",
       "    }\n",
       "</style>\n",
       "<table border=\"1\" class=\"dataframe\">\n",
       "  <thead>\n",
       "    <tr style=\"text-align: right;\">\n",
       "      <th></th>\n",
       "      <th>id</th>\n",
       "      <th>name</th>\n",
       "      <th>host_id</th>\n",
       "      <th>host_name</th>\n",
       "      <th>neighbourhood</th>\n",
       "      <th>latitude</th>\n",
       "      <th>longitude</th>\n",
       "      <th>room_type</th>\n",
       "      <th>price</th>\n",
       "      <th>minimum_nights</th>\n",
       "      <th>number_of_reviews</th>\n",
       "      <th>last_review</th>\n",
       "      <th>reviews_per_month</th>\n",
       "      <th>calculated_host_listings_count</th>\n",
       "      <th>availability_365</th>\n",
       "      <th>number_of_reviews_ltm</th>\n",
       "    </tr>\n",
       "  </thead>\n",
       "  <tbody>\n",
       "    <tr>\n",
       "      <th>1685</th>\n",
       "      <td>20275864</td>\n",
       "      <td>Soak Up the History of an Elegant Royal Route ...</td>\n",
       "      <td>8087351</td>\n",
       "      <td>Josef</td>\n",
       "      <td>Praha 1</td>\n",
       "      <td>50.08724</td>\n",
       "      <td>14.42543</td>\n",
       "      <td>Entire home/apt</td>\n",
       "      <td>2178.0</td>\n",
       "      <td>2</td>\n",
       "      <td>358</td>\n",
       "      <td>2025-03-03</td>\n",
       "      <td>3.87</td>\n",
       "      <td>82</td>\n",
       "      <td>349</td>\n",
       "      <td>41</td>\n",
       "    </tr>\n",
       "  </tbody>\n",
       "</table>\n",
       "</div>"
      ],
      "text/plain": [
       "            id                                               name  host_id  \\\n",
       "1685  20275864  Soak Up the History of an Elegant Royal Route ...  8087351   \n",
       "\n",
       "     host_name neighbourhood  latitude  longitude        room_type   price  \\\n",
       "1685     Josef       Praha 1  50.08724   14.42543  Entire home/apt  2178.0   \n",
       "\n",
       "      minimum_nights  number_of_reviews last_review  reviews_per_month  \\\n",
       "1685               2                358  2025-03-03               3.87   \n",
       "\n",
       "      calculated_host_listings_count  availability_365  number_of_reviews_ltm  \n",
       "1685                              82               349                     41  "
      ]
     },
     "execution_count": 50,
     "metadata": {},
     "output_type": "execute_result"
    }
   ],
   "source": [
    "df_2.sample()"
   ]
  },
  {
   "cell_type": "code",
   "execution_count": 51,
   "id": "116ae955-3fdb-4708-927c-5b82db8876f8",
   "metadata": {},
   "outputs": [
    {
     "data": {
      "text/plain": [
       "id                                  int64\n",
       "name                               object\n",
       "host_id                             int64\n",
       "host_name                          object\n",
       "neighbourhood                      object\n",
       "latitude                          float64\n",
       "longitude                         float64\n",
       "room_type                          object\n",
       "price                             float64\n",
       "minimum_nights                      int64\n",
       "number_of_reviews                   int64\n",
       "last_review                        object\n",
       "reviews_per_month                 float64\n",
       "calculated_host_listings_count      int64\n",
       "availability_365                    int64\n",
       "number_of_reviews_ltm               int64\n",
       "dtype: object"
      ]
     },
     "execution_count": 51,
     "metadata": {},
     "output_type": "execute_result"
    }
   ],
   "source": [
    "df_2.dtypes"
   ]
  },
  {
   "cell_type": "markdown",
   "id": "109a07ff-5298-4264-ad96-6c8ca5eb073a",
   "metadata": {},
   "source": [
    "##### Seting the format of all the numbers column."
   ]
  },
  {
   "cell_type": "markdown",
   "id": "a636fe9a-f360-40d0-855a-e556534af2d2",
   "metadata": {},
   "source": [
    "If we want to change scientific format of the numbers shown, we can reset the format. <br>Since we want the latitude to show up to 5 decimal places, we set all the numbers to have 5 decimal places."
   ]
  },
  {
   "cell_type": "code",
   "execution_count": 54,
   "id": "63788d14-a525-4973-81b7-48ec62b87ffd",
   "metadata": {},
   "outputs": [],
   "source": [
    "pd.options.display.float_format = '{:.5f}'.format"
   ]
  },
  {
   "cell_type": "markdown",
   "id": "088fde06-f83b-4139-9754-15e43f083174",
   "metadata": {},
   "source": [
    "##### Checking the *price* column"
   ]
  },
  {
   "cell_type": "code",
   "execution_count": 56,
   "id": "db419fa7-d7d7-4bee-aa08-954f8f5c6244",
   "metadata": {},
   "outputs": [
    {
     "data": {
      "text/plain": [
       "count     8808.00000\n",
       "mean      2730.52498\n",
       "std       8349.62816\n",
       "min        223.00000\n",
       "25%       1242.75000\n",
       "50%       1762.00000\n",
       "75%       2641.00000\n",
       "max     251025.00000\n",
       "Name: price, dtype: float64"
      ]
     },
     "execution_count": 56,
     "metadata": {},
     "output_type": "execute_result"
    }
   ],
   "source": [
    "df_2.price.describe()"
   ]
  },
  {
   "cell_type": "markdown",
   "id": "7bdaca81-4345-49d5-9b3f-3b73387d0b9f",
   "metadata": {},
   "source": [
    "##### Checking for the outliers"
   ]
  },
  {
   "cell_type": "code",
   "execution_count": 58,
   "id": "99fea26d-b90f-4e44-9ba1-8ab4ab2115a5",
   "metadata": {},
   "outputs": [
    {
     "data": {
      "text/plain": [
       "[223.0, 241.0, 306.0, 360.0, 362.0, 366.0, 384.0, 385.0, 385.0, 391.0]"
      ]
     },
     "execution_count": 58,
     "metadata": {},
     "output_type": "execute_result"
    }
   ],
   "source": [
    "sorted(df_2.price)[:10]"
   ]
  },
  {
   "cell_type": "code",
   "execution_count": 65,
   "id": "304757ba-764e-4ef0-8cea-8c9d096a69d9",
   "metadata": {},
   "outputs": [
    {
     "data": {
      "text/plain": [
       "[251025.0,\n",
       " 251025.0,\n",
       " 251025.0,\n",
       " 251025.0,\n",
       " 251025.0,\n",
       " 251025.0,\n",
       " 200820.0,\n",
       " 200000.0,\n",
       " 144551.0,\n",
       " 144479.0]"
      ]
     },
     "execution_count": 65,
     "metadata": {},
     "output_type": "execute_result"
    }
   ],
   "source": [
    "sorted(df_2.price, reverse=True)[:10]"
   ]
  },
  {
   "cell_type": "markdown",
   "id": "c2dad970-130f-411e-b489-993da9711263",
   "metadata": {},
   "source": [
    "There are some abnormally high prices in the dataset. Most of these high prices were checked on Airbnb website directlly and they have been recognised as an error in pricing.\n",
    "<br>Usually we would look at the standard deviation of all the price values or calculate Interquartile Range (IQR), which is a standard practice. But in our case, because of the obvious errors and given the nature of our analysis, we will cut all the data with prices over 25.000 Kč per night. This eliminates approximatelly **0.5%** of the total listings (45 listings; mostly from the category 'entire home/apt'). "
   ]
  },
  {
   "cell_type": "code",
   "execution_count": 68,
   "id": "0f9caad6-8b5e-4e5d-9d0b-4b4d485912c8",
   "metadata": {},
   "outputs": [],
   "source": [
    "df_3 = df_2.query(\"price < 25000\")"
   ]
  },
  {
   "cell_type": "code",
   "execution_count": 70,
   "id": "aa370824-3f0b-4f02-9641-e29bdb7b8063",
   "metadata": {},
   "outputs": [
    {
     "data": {
      "text/plain": [
       "8808"
      ]
     },
     "execution_count": 70,
     "metadata": {},
     "output_type": "execute_result"
    }
   ],
   "source": [
    "len(df_2)"
   ]
  },
  {
   "cell_type": "code",
   "execution_count": 72,
   "id": "403d7ed9-cc25-4d0c-b5dc-d4da3db459cd",
   "metadata": {},
   "outputs": [
    {
     "data": {
      "text/plain": [
       "8763"
      ]
     },
     "execution_count": 72,
     "metadata": {},
     "output_type": "execute_result"
    }
   ],
   "source": [
    "len(df_3)"
   ]
  },
  {
   "cell_type": "code",
   "execution_count": 74,
   "id": "4df2e6a3-be3e-4156-bed7-46d2ef77f69e",
   "metadata": {},
   "outputs": [
    {
     "data": {
      "text/plain": [
       "45"
      ]
     },
     "execution_count": 74,
     "metadata": {},
     "output_type": "execute_result"
    }
   ],
   "source": [
    "len(df_2) - len(df_3)"
   ]
  },
  {
   "cell_type": "code",
   "execution_count": 76,
   "id": "0053f567-9560-46da-a75d-bab32fc8561e",
   "metadata": {},
   "outputs": [
    {
     "data": {
      "text/plain": [
       "room_type\n",
       "Entire home/apt    7437\n",
       "Private room       1205\n",
       "Shared room          86\n",
       "Hotel room           80\n",
       "Name: count, dtype: int64"
      ]
     },
     "execution_count": 76,
     "metadata": {},
     "output_type": "execute_result"
    }
   ],
   "source": [
    "df_2.room_type.value_counts()"
   ]
  },
  {
   "cell_type": "code",
   "execution_count": 78,
   "id": "516be796-8406-4409-81a3-0d274be9bf0e",
   "metadata": {},
   "outputs": [
    {
     "data": {
      "text/plain": [
       "room_type\n",
       "Entire home/apt    7397\n",
       "Private room       1203\n",
       "Shared room          86\n",
       "Hotel room           77\n",
       "Name: count, dtype: int64"
      ]
     },
     "execution_count": 78,
     "metadata": {},
     "output_type": "execute_result"
    }
   ],
   "source": [
    "df_3.room_type.value_counts()"
   ]
  },
  {
   "cell_type": "code",
   "execution_count": 80,
   "id": "8bbbc591-b2c4-49f5-8764-5c982e8027dd",
   "metadata": {},
   "outputs": [
    {
     "data": {
      "text/plain": [
       "count    8763.00000\n",
       "mean     2316.43627\n",
       "std      2101.35521\n",
       "min       223.00000\n",
       "25%      1239.00000\n",
       "50%      1757.00000\n",
       "75%      2625.50000\n",
       "max     24643.00000\n",
       "Name: price, dtype: float64"
      ]
     },
     "execution_count": 80,
     "metadata": {},
     "output_type": "execute_result"
    }
   ],
   "source": [
    "df_3.price.describe()"
   ]
  },
  {
   "cell_type": "markdown",
   "id": "85326780-52d5-4eae-b4fb-76218503722b",
   "metadata": {},
   "source": [
    "#### Visualizations"
   ]
  },
  {
   "cell_type": "code",
   "execution_count": 82,
   "id": "6f90c6cf-e90a-42b7-a1bc-a93d6b0cafb4",
   "metadata": {},
   "outputs": [
    {
     "data": {
      "text/plain": [
       "Text(0.5, 1.0, 'Prices of the listings per night [Kč]')"
      ]
     },
     "execution_count": 82,
     "metadata": {},
     "output_type": "execute_result"
    },
    {
     "data": {
      "image/png": "[encoded data removed]",
      "text/plain": [
       "<Figure size 640x480 with 1 Axes>"
      ]
     },
     "metadata": {},
     "output_type": "display_data"
    }
   ],
   "source": [
    "sns.histplot(x=df_3.price,\n",
    "             bins=20,\n",
    "             color=\"brown\",\n",
    "             edgecolor=\"black\")\n",
    "\n",
    "plt.title(\"Prices of the listings per night [Kč]\")"
   ]
  },
  {
   "cell_type": "markdown",
   "id": "edfd5ce6-c1cc-4fb7-bd0a-27fd13b6c458",
   "metadata": {},
   "source": [
    "##### Prices according to the room type"
   ]
  },
  {
   "cell_type": "code",
   "execution_count": 85,
   "id": "5ae02305-0a47-45ab-b516-b00f21681886",
   "metadata": {},
   "outputs": [
    {
     "data": {
      "text/plain": [
       "Text(0.5, 1.0, 'Room types offered')"
      ]
     },
     "execution_count": 85,
     "metadata": {},
     "output_type": "execute_result"
    },
    {
     "data": {
      "image/png": "[encoded data removed]",
      "text/plain": [
       "<Figure size 640x480 with 1 Axes>"
      ]
     },
     "metadata": {},
     "output_type": "display_data"
    }
   ],
   "source": [
    "sns.countplot(x=df_3.room_type,\n",
    "              hue=df_3.room_type,\n",
    "              order=df_3.room_type.value_counts().index,\n",
    "              palette=\"magma\")\n",
    "\n",
    "plt.xticks(rotation=45)\n",
    "\n",
    "plt.title(\"Room types offered\")"
   ]
  },
  {
   "cell_type": "code",
   "execution_count": 87,
   "id": "d1af4f07-2e7f-4cba-8f01-a19ff812518b",
   "metadata": {},
   "outputs": [
    {
     "data": {
      "text/html": [
       "<div>\n",
       "<style scoped>\n",
       "    .dataframe tbody tr th:only-of-type {\n",
       "        vertical-align: middle;\n",
       "    }\n",
       "\n",
       "    .dataframe tbody tr th {\n",
       "        vertical-align: top;\n",
       "    }\n",
       "\n",
       "    .dataframe thead th {\n",
       "        text-align: right;\n",
       "    }\n",
       "</style>\n",
       "<table border=\"1\" class=\"dataframe\">\n",
       "  <thead>\n",
       "    <tr style=\"text-align: right;\">\n",
       "      <th></th>\n",
       "      <th>price</th>\n",
       "    </tr>\n",
       "    <tr>\n",
       "      <th>room_type</th>\n",
       "      <th></th>\n",
       "    </tr>\n",
       "  </thead>\n",
       "  <tbody>\n",
       "    <tr>\n",
       "      <th>Entire home/apt</th>\n",
       "      <td>2424.44680</td>\n",
       "    </tr>\n",
       "    <tr>\n",
       "      <th>Hotel room</th>\n",
       "      <td>3131.87013</td>\n",
       "    </tr>\n",
       "    <tr>\n",
       "      <th>Private room</th>\n",
       "      <td>1726.96259</td>\n",
       "    </tr>\n",
       "    <tr>\n",
       "      <th>Shared room</th>\n",
       "      <td>541.95349</td>\n",
       "    </tr>\n",
       "  </tbody>\n",
       "</table>\n",
       "</div>"
      ],
      "text/plain": [
       "                     price\n",
       "room_type                 \n",
       "Entire home/apt 2424.44680\n",
       "Hotel room      3131.87013\n",
       "Private room    1726.96259\n",
       "Shared room      541.95349"
      ]
     },
     "execution_count": 87,
     "metadata": {},
     "output_type": "execute_result"
    }
   ],
   "source": [
    "df_3.groupby(\"room_type\").agg({\"price\": \"mean\"})"
   ]
  },
  {
   "cell_type": "code",
   "execution_count": 89,
   "id": "6b43b570-5477-4310-841e-d6c3a93c7e6e",
   "metadata": {},
   "outputs": [
    {
     "data": {
      "text/plain": [
       "Text(0.5, 1.0, 'Prices by the room type')"
      ]
     },
     "execution_count": 89,
     "metadata": {},
     "output_type": "execute_result"
    },
    {
     "data": {
      "image/png": "[encoded data removed]",
      "text/plain": [
       "<Figure size 640x480 with 1 Axes>"
      ]
     },
     "metadata": {},
     "output_type": "display_data"
    }
   ],
   "source": [
    "sns.histplot(data=df_3, x=\"price\",\n",
    "             hue=\"room_type\",\n",
    "             bins=70,\n",
    "             multiple=\"stack\",\n",
    "             palette=\"rocket\",\n",
    "             legend=True);\n",
    "\n",
    "plt.axvline(df_3.price.mean(),\n",
    "            c=\"y\",\n",
    "            linewidth=2);\n",
    "\n",
    "plt.xlim(0,9000)\n",
    "\n",
    "plt.title(\"Prices by the room type\")"
   ]
  },
  {
   "cell_type": "markdown",
   "id": "37093e73-406f-4f2d-89d0-973b88ca6fe8",
   "metadata": {},
   "source": [
    "##### Checking for the outliers in other columns, if there are any"
   ]
  },
  {
   "cell_type": "code",
   "execution_count": 92,
   "id": "e70fb9ee-d058-42b0-ad1a-7da3d62799e2",
   "metadata": {},
   "outputs": [
    {
     "data": {
      "text/plain": [
       "0"
      ]
     },
     "execution_count": 92,
     "metadata": {},
     "output_type": "execute_result"
    }
   ],
   "source": [
    "df_3[\"availability_365\"].min()"
   ]
  },
  {
   "cell_type": "code",
   "execution_count": 94,
   "id": "21d89243-63b7-40ba-8d6e-729ab2464ccd",
   "metadata": {},
   "outputs": [
    {
     "data": {
      "text/plain": [
       "365"
      ]
     },
     "execution_count": 94,
     "metadata": {},
     "output_type": "execute_result"
    }
   ],
   "source": [
    "df_3[\"availability_365\"].max()"
   ]
  },
  {
   "cell_type": "markdown",
   "id": "6b26270c-b1fd-4911-9045-1513719f94d4",
   "metadata": {},
   "source": [
    "There may also be errors in *minimum_nights* column, that we could handle the same way as we did the *price* column."
   ]
  },
  {
   "cell_type": "code",
   "execution_count": 97,
   "id": "c1d2b832-2540-405a-8586-1a1fe086b310",
   "metadata": {},
   "outputs": [
    {
     "data": {
      "text/plain": [
       "count   8763.00000\n",
       "mean       3.37464\n",
       "std       17.89706\n",
       "min        1.00000\n",
       "25%        1.00000\n",
       "50%        2.00000\n",
       "75%        2.00000\n",
       "max      730.00000\n",
       "Name: minimum_nights, dtype: float64"
      ]
     },
     "execution_count": 97,
     "metadata": {},
     "output_type": "execute_result"
    }
   ],
   "source": [
    "df_3.minimum_nights.describe()"
   ]
  },
  {
   "cell_type": "markdown",
   "id": "57a5ac10-c15d-49a9-b2d9-c8a0b413dd27",
   "metadata": {},
   "source": [
    "#### Adding the *potential revenue* column\n",
    "From the data for the year 2023 we can learn, that tha median occupancy rate with Airbnb was 71%. We can assume, that this value is still representative as for today.\n",
    "<br>***This data was taken from on airbtics.com.*"
   ]
  },
  {
   "cell_type": "code",
   "execution_count": 102,
   "id": "7f3e098f-95bd-44e8-9d3e-19917e384051",
   "metadata": {},
   "outputs": [],
   "source": [
    "df_3.loc[:,\"potential_revenue\"] = df_3.loc[:,\"price\"] * 365 * .71"
   ]
  },
  {
   "cell_type": "code",
   "execution_count": 104,
   "id": "0cf25bf7-00d7-4479-bdd4-bb22432f2392",
   "metadata": {},
   "outputs": [
    {
     "data": {
      "text/html": [
       "<div>\n",
       "<style scoped>\n",
       "    .dataframe tbody tr th:only-of-type {\n",
       "        vertical-align: middle;\n",
       "    }\n",
       "\n",
       "    .dataframe tbody tr th {\n",
       "        vertical-align: top;\n",
       "    }\n",
       "\n",
       "    .dataframe thead th {\n",
       "        text-align: right;\n",
       "    }\n",
       "</style>\n",
       "<table border=\"1\" class=\"dataframe\">\n",
       "  <thead>\n",
       "    <tr style=\"text-align: right;\">\n",
       "      <th></th>\n",
       "      <th>id</th>\n",
       "      <th>name</th>\n",
       "      <th>host_id</th>\n",
       "      <th>host_name</th>\n",
       "      <th>neighbourhood</th>\n",
       "      <th>latitude</th>\n",
       "      <th>longitude</th>\n",
       "      <th>room_type</th>\n",
       "      <th>price</th>\n",
       "      <th>minimum_nights</th>\n",
       "      <th>number_of_reviews</th>\n",
       "      <th>last_review</th>\n",
       "      <th>reviews_per_month</th>\n",
       "      <th>calculated_host_listings_count</th>\n",
       "      <th>availability_365</th>\n",
       "      <th>number_of_reviews_ltm</th>\n",
       "      <th>potential_revenue</th>\n",
       "    </tr>\n",
       "  </thead>\n",
       "  <tbody>\n",
       "    <tr>\n",
       "      <th>8972</th>\n",
       "      <td>1272602562732646664</td>\n",
       "      <td>Small Luxury 2-level Apartment</td>\n",
       "      <td>412431963</td>\n",
       "      <td>Hoai Vu</td>\n",
       "      <td>Praha 1</td>\n",
       "      <td>50.08917</td>\n",
       "      <td>14.40092</td>\n",
       "      <td>Entire home/apt</td>\n",
       "      <td>1243.00000</td>\n",
       "      <td>1</td>\n",
       "      <td>4</td>\n",
       "      <td>2025-03-01</td>\n",
       "      <td>0.96000</td>\n",
       "      <td>9</td>\n",
       "      <td>130</td>\n",
       "      <td>4</td>\n",
       "      <td>322123.45000</td>\n",
       "    </tr>\n",
       "  </tbody>\n",
       "</table>\n",
       "</div>"
      ],
      "text/plain": [
       "                       id                            name    host_id  \\\n",
       "8972  1272602562732646664  Small Luxury 2-level Apartment  412431963   \n",
       "\n",
       "     host_name neighbourhood  latitude  longitude        room_type      price  \\\n",
       "8972   Hoai Vu       Praha 1  50.08917   14.40092  Entire home/apt 1243.00000   \n",
       "\n",
       "      minimum_nights  number_of_reviews last_review  reviews_per_month  \\\n",
       "8972               1                  4  2025-03-01            0.96000   \n",
       "\n",
       "      calculated_host_listings_count  availability_365  number_of_reviews_ltm  \\\n",
       "8972                               9               130                      4   \n",
       "\n",
       "      potential_revenue  \n",
       "8972       322123.45000  "
      ]
     },
     "execution_count": 104,
     "metadata": {},
     "output_type": "execute_result"
    }
   ],
   "source": [
    "df_3.sample()"
   ]
  },
  {
   "cell_type": "code",
   "execution_count": 106,
   "id": "f3e3717d-e3b3-43ae-ac2c-1d7ad4373191",
   "metadata": {},
   "outputs": [
    {
     "data": {
      "text/plain": [
       "8763"
      ]
     },
     "execution_count": 106,
     "metadata": {},
     "output_type": "execute_result"
    }
   ],
   "source": [
    "len(df_3[\"potential_revenue\"])"
   ]
  },
  {
   "cell_type": "code",
   "execution_count": 108,
   "id": "8fbdb3e2-3c40-45dd-907d-fd47da8955f1",
   "metadata": {},
   "outputs": [
    {
     "data": {
      "text/plain": [
       "6386233.0"
      ]
     },
     "execution_count": 108,
     "metadata": {},
     "output_type": "execute_result"
    }
   ],
   "source": [
    "round(df_3[\"potential_revenue\"].max(), 0)"
   ]
  },
  {
   "cell_type": "code",
   "execution_count": 110,
   "id": "412a0224-e155-4583-afb1-7a3c77bc41a4",
   "metadata": {},
   "outputs": [
    {
     "data": {
      "text/plain": [
       "57790.0"
      ]
     },
     "execution_count": 110,
     "metadata": {},
     "output_type": "execute_result"
    }
   ],
   "source": [
    "round(df_3[\"potential_revenue\"].min(), 0)"
   ]
  },
  {
   "cell_type": "markdown",
   "id": "15b6ac9f-5a6d-4900-a811-cd2745d3e36a",
   "metadata": {},
   "source": [
    "#### Other available data to look into"
   ]
  },
  {
   "cell_type": "markdown",
   "id": "bcf8359c-431d-46ea-9f54-95008c46286e",
   "metadata": {},
   "source": [
    "Let's dive into *availability* data.\n",
    "<br>We can observe, that the listings have different occupation status for the upcoming year."
   ]
  },
  {
   "cell_type": "code",
   "execution_count": 114,
   "id": "51b28e2d-ff24-4880-976d-b0d2849f8ccb",
   "metadata": {},
   "outputs": [
    {
     "data": {
      "text/plain": [
       "count   8763.00000\n",
       "mean     186.69337\n",
       "std      110.02344\n",
       "min        0.00000\n",
       "25%       89.00000\n",
       "50%      183.00000\n",
       "75%      285.00000\n",
       "max      365.00000\n",
       "Name: availability_365, dtype: float64"
      ]
     },
     "execution_count": 114,
     "metadata": {},
     "output_type": "execute_result"
    }
   ],
   "source": [
    "df_3.availability_365.describe()"
   ]
  },
  {
   "cell_type": "code",
   "execution_count": 116,
   "id": "f0d93b15-ba8d-4768-aa2b-3c6ec650b677",
   "metadata": {},
   "outputs": [
    {
     "data": {
      "text/plain": [
       "Text(0.5, 1.0, 'Availability of the listings throughout the year')"
      ]
     },
     "execution_count": 116,
     "metadata": {},
     "output_type": "execute_result"
    },
    {
     "data": {
      "image/png": "[encoded data removed]",
      "text/plain": [
       "<Figure size 640x480 with 1 Axes>"
      ]
     },
     "metadata": {},
     "output_type": "display_data"
    }
   ],
   "source": [
    "sns.histplot(x=df_3.availability_365,\n",
    "             color=\"brown\",\n",
    "             edgecolor=\"black\")\n",
    "\n",
    "plt.title(\"Availability of the listings throughout the year\")"
   ]
  },
  {
   "cell_type": "code",
   "execution_count": 120,
   "id": "c413f1a0-449c-48b7-9a23-8cd7773eeb06",
   "metadata": {},
   "outputs": [],
   "source": [
    "df_3.loc[:,'availability_cat'] = df_3.loc[:,'availability_365'].apply(lambda x: 'low' if x <= 121.5 \n",
    "                                                         else ('middle' if 121.5 < x <= 243 else 'high'))"
   ]
  },
  {
   "cell_type": "code",
   "execution_count": 122,
   "id": "72d3621e-f41e-43a2-add6-bbbe0719377d",
   "metadata": {},
   "outputs": [
    {
     "data": {
      "text/html": [
       "<div>\n",
       "<style scoped>\n",
       "    .dataframe tbody tr th:only-of-type {\n",
       "        vertical-align: middle;\n",
       "    }\n",
       "\n",
       "    .dataframe tbody tr th {\n",
       "        vertical-align: top;\n",
       "    }\n",
       "\n",
       "    .dataframe thead th {\n",
       "        text-align: right;\n",
       "    }\n",
       "</style>\n",
       "<table border=\"1\" class=\"dataframe\">\n",
       "  <thead>\n",
       "    <tr style=\"text-align: right;\">\n",
       "      <th></th>\n",
       "      <th>id</th>\n",
       "      <th>name</th>\n",
       "      <th>host_id</th>\n",
       "      <th>host_name</th>\n",
       "      <th>neighbourhood</th>\n",
       "      <th>latitude</th>\n",
       "      <th>longitude</th>\n",
       "      <th>room_type</th>\n",
       "      <th>price</th>\n",
       "      <th>minimum_nights</th>\n",
       "      <th>number_of_reviews</th>\n",
       "      <th>last_review</th>\n",
       "      <th>reviews_per_month</th>\n",
       "      <th>calculated_host_listings_count</th>\n",
       "      <th>availability_365</th>\n",
       "      <th>number_of_reviews_ltm</th>\n",
       "      <th>potential_revenue</th>\n",
       "      <th>availability_cat</th>\n",
       "    </tr>\n",
       "  </thead>\n",
       "  <tbody>\n",
       "    <tr>\n",
       "      <th>2622</th>\n",
       "      <td>32890050</td>\n",
       "      <td>Amazing LUXURY \"Gautama\" Apartment</td>\n",
       "      <td>239827506</td>\n",
       "      <td>Dima</td>\n",
       "      <td>Praha 1</td>\n",
       "      <td>50.07731</td>\n",
       "      <td>14.42971</td>\n",
       "      <td>Entire home/apt</td>\n",
       "      <td>7280.00000</td>\n",
       "      <td>10</td>\n",
       "      <td>60</td>\n",
       "      <td>2023-06-02</td>\n",
       "      <td>0.84000</td>\n",
       "      <td>2</td>\n",
       "      <td>365</td>\n",
       "      <td>0</td>\n",
       "      <td>1886612.00000</td>\n",
       "      <td>high</td>\n",
       "    </tr>\n",
       "  </tbody>\n",
       "</table>\n",
       "</div>"
      ],
      "text/plain": [
       "            id                                name    host_id host_name  \\\n",
       "2622  32890050  Amazing LUXURY \"Gautama\" Apartment  239827506      Dima   \n",
       "\n",
       "     neighbourhood  latitude  longitude        room_type      price  \\\n",
       "2622       Praha 1  50.07731   14.42971  Entire home/apt 7280.00000   \n",
       "\n",
       "      minimum_nights  number_of_reviews last_review  reviews_per_month  \\\n",
       "2622              10                 60  2023-06-02            0.84000   \n",
       "\n",
       "      calculated_host_listings_count  availability_365  number_of_reviews_ltm  \\\n",
       "2622                               2               365                      0   \n",
       "\n",
       "      potential_revenue availability_cat  \n",
       "2622      1886612.00000             high  "
      ]
     },
     "execution_count": 122,
     "metadata": {},
     "output_type": "execute_result"
    }
   ],
   "source": [
    "df_3.sample()"
   ]
  },
  {
   "cell_type": "code",
   "execution_count": 124,
   "id": "c645648d-3159-4db7-b539-0014ed2a6c3d",
   "metadata": {},
   "outputs": [
    {
     "data": {
      "text/plain": [
       "Text(0.5, 1.0, 'Availability of the listings throughout the year by category')"
      ]
     },
     "execution_count": 124,
     "metadata": {},
     "output_type": "execute_result"
    },
    {
     "data": {
      "image/png": "[encoded data removed]",
      "text/plain": [
       "<Figure size 640x480 with 1 Axes>"
      ]
     },
     "metadata": {},
     "output_type": "display_data"
    }
   ],
   "source": [
    "sns.countplot(x=df_3.availability_cat,\n",
    "             hue=df_3.availability_cat,\n",
    "             palette=\"rocket\")\n",
    "\n",
    "plt.title(\"Availability of the listings throughout the year by category\")"
   ]
  },
  {
   "cell_type": "markdown",
   "id": "27dd1ecd-7e0d-460f-9f39-3bd161075c9f",
   "metadata": {},
   "source": [
    "#### More data to look into"
   ]
  },
  {
   "cell_type": "markdown",
   "id": "2f491e53-6bc5-45dc-80c4-943fedd8f596",
   "metadata": {},
   "source": [
    "We could take a peek into *reviews* data aswell.\n",
    "<br>According to some statistics, total occupancy can be calculated based on monthly reviews.\n",
    "<br>\n",
    "<br>In the visualization below, monthly figures of reviews with the mean values are shown. (We've cut the outliers above 10.)"
   ]
  },
  {
   "cell_type": "code",
   "execution_count": 128,
   "id": "fac2e5e7-3de9-40c7-be94-71a2a5a1172e",
   "metadata": {},
   "outputs": [
    {
     "data": {
      "text/plain": [
       "Text(0.5, 1.0, 'Number of reviews per month by listings')"
      ]
     },
     "execution_count": 128,
     "metadata": {},
     "output_type": "execute_result"
    },
    {
     "data": {
      "image/png": "[encoded data removed]",
      "text/plain": [
       "<Figure size 640x480 with 1 Axes>"
      ]
     },
     "metadata": {},
     "output_type": "display_data"
    }
   ],
   "source": [
    "sns.histplot(x=df_3.reviews_per_month,\n",
    "             color=\"brown\",\n",
    "             edgecolor=\"black\")\n",
    "\n",
    "plt.axvline(df_3.reviews_per_month.mean(),\n",
    "            c=\"grey\",\n",
    "            linewidth=2);\n",
    "\n",
    "plt.xlim(0,10)\n",
    "\n",
    "plt.title(\"Number of reviews per month by listings\")"
   ]
  },
  {
   "cell_type": "markdown",
   "id": "eda79ea9-b134-4e14-83c3-018e8ea13168",
   "metadata": {},
   "source": [
    "#### Checking the spatial data"
   ]
  },
  {
   "cell_type": "markdown",
   "id": "6d5456a6-138f-4285-93df-ab5f382ac3a3",
   "metadata": {},
   "source": [
    "Understanding the distribution of Airbnb listings across Prague requires mapping them to the city's administrative structure. Prague is divided into three distinct levels of governance. To ensure accurate data representation, we must connect *neighborhood* column data (neighbourhood-level divisions) to both administrative and municipal district levels (with 22 administrative districts and 10 larger municipal districts).\n",
    "<br>Additionally, for visualization purposes, municipal parts need to be linked to cadastral areas, enabling ZIP code integration for geospatial mapping.\n",
    "<br>\n",
    "<br>During the data merging process, we must assess the informational value of each dataset. In cases where listings are sparse, we need to determine how to handle limited data points to maintain reliability and analytical depth."
   ]
  },
  {
   "cell_type": "code",
   "execution_count": 132,
   "id": "f4146b94-f863-45d1-8712-280e71cffd6a",
   "metadata": {
    "scrolled": true
   },
   "outputs": [
    {
     "data": {
      "text/html": [
       "<div>\n",
       "<style scoped>\n",
       "    .dataframe tbody tr th:only-of-type {\n",
       "        vertical-align: middle;\n",
       "    }\n",
       "\n",
       "    .dataframe tbody tr th {\n",
       "        vertical-align: top;\n",
       "    }\n",
       "\n",
       "    .dataframe thead th {\n",
       "        text-align: right;\n",
       "    }\n",
       "</style>\n",
       "<table border=\"1\" class=\"dataframe\">\n",
       "  <thead>\n",
       "    <tr style=\"text-align: right;\">\n",
       "      <th></th>\n",
       "      <th>id</th>\n",
       "    </tr>\n",
       "    <tr>\n",
       "      <th>neighbourhood</th>\n",
       "      <th></th>\n",
       "    </tr>\n",
       "  </thead>\n",
       "  <tbody>\n",
       "    <tr>\n",
       "      <th>Březiněves</th>\n",
       "      <td>3</td>\n",
       "    </tr>\n",
       "    <tr>\n",
       "      <th>Dolní Chabry</th>\n",
       "      <td>8</td>\n",
       "    </tr>\n",
       "    <tr>\n",
       "      <th>Dolní Počernice</th>\n",
       "      <td>8</td>\n",
       "    </tr>\n",
       "    <tr>\n",
       "      <th>Dubeč</th>\n",
       "      <td>1</td>\n",
       "    </tr>\n",
       "    <tr>\n",
       "      <th>Klánovice</th>\n",
       "      <td>1</td>\n",
       "    </tr>\n",
       "    <tr>\n",
       "      <th>Kolovraty</th>\n",
       "      <td>1</td>\n",
       "    </tr>\n",
       "    <tr>\n",
       "      <th>Královice</th>\n",
       "      <td>1</td>\n",
       "    </tr>\n",
       "    <tr>\n",
       "      <th>Kunratice</th>\n",
       "      <td>10</td>\n",
       "    </tr>\n",
       "    <tr>\n",
       "      <th>Libuš</th>\n",
       "      <td>18</td>\n",
       "    </tr>\n",
       "    <tr>\n",
       "      <th>Lipence</th>\n",
       "      <td>1</td>\n",
       "    </tr>\n",
       "    <tr>\n",
       "      <th>Lysolaje</th>\n",
       "      <td>2</td>\n",
       "    </tr>\n",
       "    <tr>\n",
       "      <th>Nebušice</th>\n",
       "      <td>5</td>\n",
       "    </tr>\n",
       "    <tr>\n",
       "      <th>Nedvězí</th>\n",
       "      <td>5</td>\n",
       "    </tr>\n",
       "    <tr>\n",
       "      <th>Petrovice</th>\n",
       "      <td>6</td>\n",
       "    </tr>\n",
       "    <tr>\n",
       "      <th>Praha 1</th>\n",
       "      <td>3228</td>\n",
       "    </tr>\n",
       "    <tr>\n",
       "      <th>Praha 10</th>\n",
       "      <td>278</td>\n",
       "    </tr>\n",
       "    <tr>\n",
       "      <th>Praha 11</th>\n",
       "      <td>38</td>\n",
       "    </tr>\n",
       "    <tr>\n",
       "      <th>Praha 12</th>\n",
       "      <td>26</td>\n",
       "    </tr>\n",
       "    <tr>\n",
       "      <th>Praha 13</th>\n",
       "      <td>59</td>\n",
       "    </tr>\n",
       "    <tr>\n",
       "      <th>Praha 14</th>\n",
       "      <td>33</td>\n",
       "    </tr>\n",
       "    <tr>\n",
       "      <th>Praha 15</th>\n",
       "      <td>23</td>\n",
       "    </tr>\n",
       "    <tr>\n",
       "      <th>Praha 16</th>\n",
       "      <td>5</td>\n",
       "    </tr>\n",
       "    <tr>\n",
       "      <th>Praha 17</th>\n",
       "      <td>11</td>\n",
       "    </tr>\n",
       "    <tr>\n",
       "      <th>Praha 18</th>\n",
       "      <td>10</td>\n",
       "    </tr>\n",
       "    <tr>\n",
       "      <th>Praha 19</th>\n",
       "      <td>11</td>\n",
       "    </tr>\n",
       "    <tr>\n",
       "      <th>Praha 2</th>\n",
       "      <td>1567</td>\n",
       "    </tr>\n",
       "    <tr>\n",
       "      <th>Praha 20</th>\n",
       "      <td>2</td>\n",
       "    </tr>\n",
       "    <tr>\n",
       "      <th>Praha 21</th>\n",
       "      <td>5</td>\n",
       "    </tr>\n",
       "    <tr>\n",
       "      <th>Praha 22</th>\n",
       "      <td>10</td>\n",
       "    </tr>\n",
       "    <tr>\n",
       "      <th>Praha 3</th>\n",
       "      <td>987</td>\n",
       "    </tr>\n",
       "    <tr>\n",
       "      <th>Praha 4</th>\n",
       "      <td>270</td>\n",
       "    </tr>\n",
       "    <tr>\n",
       "      <th>Praha 5</th>\n",
       "      <td>780</td>\n",
       "    </tr>\n",
       "    <tr>\n",
       "      <th>Praha 6</th>\n",
       "      <td>308</td>\n",
       "    </tr>\n",
       "    <tr>\n",
       "      <th>Praha 7</th>\n",
       "      <td>364</td>\n",
       "    </tr>\n",
       "    <tr>\n",
       "      <th>Praha 8</th>\n",
       "      <td>497</td>\n",
       "    </tr>\n",
       "    <tr>\n",
       "      <th>Praha 9</th>\n",
       "      <td>103</td>\n",
       "    </tr>\n",
       "    <tr>\n",
       "      <th>Přední Kopanina</th>\n",
       "      <td>2</td>\n",
       "    </tr>\n",
       "    <tr>\n",
       "      <th>Satalice</th>\n",
       "      <td>3</td>\n",
       "    </tr>\n",
       "    <tr>\n",
       "      <th>Slivenec</th>\n",
       "      <td>9</td>\n",
       "    </tr>\n",
       "    <tr>\n",
       "      <th>Suchdol</th>\n",
       "      <td>2</td>\n",
       "    </tr>\n",
       "    <tr>\n",
       "      <th>Troja</th>\n",
       "      <td>4</td>\n",
       "    </tr>\n",
       "    <tr>\n",
       "      <th>Velká Chuchle</th>\n",
       "      <td>9</td>\n",
       "    </tr>\n",
       "    <tr>\n",
       "      <th>Vinoř</th>\n",
       "      <td>5</td>\n",
       "    </tr>\n",
       "    <tr>\n",
       "      <th>Zbraslav</th>\n",
       "      <td>10</td>\n",
       "    </tr>\n",
       "    <tr>\n",
       "      <th>Zličín</th>\n",
       "      <td>12</td>\n",
       "    </tr>\n",
       "    <tr>\n",
       "      <th>Újezd</th>\n",
       "      <td>3</td>\n",
       "    </tr>\n",
       "    <tr>\n",
       "      <th>Čakovice</th>\n",
       "      <td>5</td>\n",
       "    </tr>\n",
       "    <tr>\n",
       "      <th>Ďáblice</th>\n",
       "      <td>3</td>\n",
       "    </tr>\n",
       "    <tr>\n",
       "      <th>Řeporyje</th>\n",
       "      <td>5</td>\n",
       "    </tr>\n",
       "    <tr>\n",
       "      <th>Šeberov</th>\n",
       "      <td>5</td>\n",
       "    </tr>\n",
       "    <tr>\n",
       "      <th>Štěrboholy</th>\n",
       "      <td>1</td>\n",
       "    </tr>\n",
       "  </tbody>\n",
       "</table>\n",
       "</div>"
      ],
      "text/plain": [
       "                   id\n",
       "neighbourhood        \n",
       "Březiněves          3\n",
       "Dolní Chabry        8\n",
       "Dolní Počernice     8\n",
       "Dubeč               1\n",
       "Klánovice           1\n",
       "Kolovraty           1\n",
       "Královice           1\n",
       "Kunratice          10\n",
       "Libuš              18\n",
       "Lipence             1\n",
       "Lysolaje            2\n",
       "Nebušice            5\n",
       "Nedvězí             5\n",
       "Petrovice           6\n",
       "Praha 1          3228\n",
       "Praha 10          278\n",
       "Praha 11           38\n",
       "Praha 12           26\n",
       "Praha 13           59\n",
       "Praha 14           33\n",
       "Praha 15           23\n",
       "Praha 16            5\n",
       "Praha 17           11\n",
       "Praha 18           10\n",
       "Praha 19           11\n",
       "Praha 2          1567\n",
       "Praha 20            2\n",
       "Praha 21            5\n",
       "Praha 22           10\n",
       "Praha 3           987\n",
       "Praha 4           270\n",
       "Praha 5           780\n",
       "Praha 6           308\n",
       "Praha 7           364\n",
       "Praha 8           497\n",
       "Praha 9           103\n",
       "Přední Kopanina     2\n",
       "Satalice            3\n",
       "Slivenec            9\n",
       "Suchdol             2\n",
       "Troja               4\n",
       "Velká Chuchle       9\n",
       "Vinoř               5\n",
       "Zbraslav           10\n",
       "Zličín             12\n",
       "Újezd               3\n",
       "Čakovice            5\n",
       "Ďáblice             3\n",
       "Řeporyje            5\n",
       "Šeberov             5\n",
       "Štěrboholy          1"
      ]
     },
     "execution_count": 132,
     "metadata": {},
     "output_type": "execute_result"
    }
   ],
   "source": [
    "grouped_neighbourhood = df_3.groupby(\"neighbourhood\").agg({\"id\":\"count\"})\n",
    "grouped_neighbourhood"
   ]
  },
  {
   "cell_type": "code",
   "execution_count": 134,
   "id": "d579a4f9-ec2f-4c70-b217-fe618a73d9eb",
   "metadata": {
    "scrolled": true
   },
   "outputs": [
    {
     "data": {
      "text/html": [
       "<div>\n",
       "<style scoped>\n",
       "    .dataframe tbody tr th:only-of-type {\n",
       "        vertical-align: middle;\n",
       "    }\n",
       "\n",
       "    .dataframe tbody tr th {\n",
       "        vertical-align: top;\n",
       "    }\n",
       "\n",
       "    .dataframe thead th {\n",
       "        text-align: right;\n",
       "    }\n",
       "</style>\n",
       "<table border=\"1\" class=\"dataframe\">\n",
       "  <thead>\n",
       "    <tr style=\"text-align: right;\">\n",
       "      <th></th>\n",
       "      <th>id</th>\n",
       "    </tr>\n",
       "    <tr>\n",
       "      <th>neighbourhood</th>\n",
       "      <th></th>\n",
       "    </tr>\n",
       "  </thead>\n",
       "  <tbody>\n",
       "    <tr>\n",
       "      <th>Praha 1</th>\n",
       "      <td>3228</td>\n",
       "    </tr>\n",
       "    <tr>\n",
       "      <th>Praha 2</th>\n",
       "      <td>1567</td>\n",
       "    </tr>\n",
       "    <tr>\n",
       "      <th>Praha 3</th>\n",
       "      <td>987</td>\n",
       "    </tr>\n",
       "    <tr>\n",
       "      <th>Praha 5</th>\n",
       "      <td>780</td>\n",
       "    </tr>\n",
       "    <tr>\n",
       "      <th>Praha 8</th>\n",
       "      <td>497</td>\n",
       "    </tr>\n",
       "    <tr>\n",
       "      <th>Praha 7</th>\n",
       "      <td>364</td>\n",
       "    </tr>\n",
       "    <tr>\n",
       "      <th>Praha 6</th>\n",
       "      <td>308</td>\n",
       "    </tr>\n",
       "    <tr>\n",
       "      <th>Praha 10</th>\n",
       "      <td>278</td>\n",
       "    </tr>\n",
       "    <tr>\n",
       "      <th>Praha 4</th>\n",
       "      <td>270</td>\n",
       "    </tr>\n",
       "    <tr>\n",
       "      <th>Praha 9</th>\n",
       "      <td>103</td>\n",
       "    </tr>\n",
       "    <tr>\n",
       "      <th>Praha 13</th>\n",
       "      <td>59</td>\n",
       "    </tr>\n",
       "    <tr>\n",
       "      <th>Praha 11</th>\n",
       "      <td>38</td>\n",
       "    </tr>\n",
       "    <tr>\n",
       "      <th>Praha 14</th>\n",
       "      <td>33</td>\n",
       "    </tr>\n",
       "    <tr>\n",
       "      <th>Praha 12</th>\n",
       "      <td>26</td>\n",
       "    </tr>\n",
       "    <tr>\n",
       "      <th>Praha 15</th>\n",
       "      <td>23</td>\n",
       "    </tr>\n",
       "    <tr>\n",
       "      <th>Libuš</th>\n",
       "      <td>18</td>\n",
       "    </tr>\n",
       "    <tr>\n",
       "      <th>Zličín</th>\n",
       "      <td>12</td>\n",
       "    </tr>\n",
       "    <tr>\n",
       "      <th>Praha 19</th>\n",
       "      <td>11</td>\n",
       "    </tr>\n",
       "    <tr>\n",
       "      <th>Praha 17</th>\n",
       "      <td>11</td>\n",
       "    </tr>\n",
       "    <tr>\n",
       "      <th>Zbraslav</th>\n",
       "      <td>10</td>\n",
       "    </tr>\n",
       "    <tr>\n",
       "      <th>Kunratice</th>\n",
       "      <td>10</td>\n",
       "    </tr>\n",
       "    <tr>\n",
       "      <th>Praha 22</th>\n",
       "      <td>10</td>\n",
       "    </tr>\n",
       "    <tr>\n",
       "      <th>Praha 18</th>\n",
       "      <td>10</td>\n",
       "    </tr>\n",
       "    <tr>\n",
       "      <th>Velká Chuchle</th>\n",
       "      <td>9</td>\n",
       "    </tr>\n",
       "    <tr>\n",
       "      <th>Slivenec</th>\n",
       "      <td>9</td>\n",
       "    </tr>\n",
       "    <tr>\n",
       "      <th>Dolní Chabry</th>\n",
       "      <td>8</td>\n",
       "    </tr>\n",
       "    <tr>\n",
       "      <th>Dolní Počernice</th>\n",
       "      <td>8</td>\n",
       "    </tr>\n",
       "    <tr>\n",
       "      <th>Petrovice</th>\n",
       "      <td>6</td>\n",
       "    </tr>\n",
       "    <tr>\n",
       "      <th>Nedvězí</th>\n",
       "      <td>5</td>\n",
       "    </tr>\n",
       "    <tr>\n",
       "      <th>Praha 21</th>\n",
       "      <td>5</td>\n",
       "    </tr>\n",
       "    <tr>\n",
       "      <th>Praha 16</th>\n",
       "      <td>5</td>\n",
       "    </tr>\n",
       "    <tr>\n",
       "      <th>Čakovice</th>\n",
       "      <td>5</td>\n",
       "    </tr>\n",
       "    <tr>\n",
       "      <th>Řeporyje</th>\n",
       "      <td>5</td>\n",
       "    </tr>\n",
       "    <tr>\n",
       "      <th>Šeberov</th>\n",
       "      <td>5</td>\n",
       "    </tr>\n",
       "    <tr>\n",
       "      <th>Vinoř</th>\n",
       "      <td>5</td>\n",
       "    </tr>\n",
       "    <tr>\n",
       "      <th>Nebušice</th>\n",
       "      <td>5</td>\n",
       "    </tr>\n",
       "    <tr>\n",
       "      <th>Troja</th>\n",
       "      <td>4</td>\n",
       "    </tr>\n",
       "    <tr>\n",
       "      <th>Újezd</th>\n",
       "      <td>3</td>\n",
       "    </tr>\n",
       "    <tr>\n",
       "      <th>Ďáblice</th>\n",
       "      <td>3</td>\n",
       "    </tr>\n",
       "    <tr>\n",
       "      <th>Březiněves</th>\n",
       "      <td>3</td>\n",
       "    </tr>\n",
       "    <tr>\n",
       "      <th>Satalice</th>\n",
       "      <td>3</td>\n",
       "    </tr>\n",
       "    <tr>\n",
       "      <th>Suchdol</th>\n",
       "      <td>2</td>\n",
       "    </tr>\n",
       "    <tr>\n",
       "      <th>Přední Kopanina</th>\n",
       "      <td>2</td>\n",
       "    </tr>\n",
       "    <tr>\n",
       "      <th>Praha 20</th>\n",
       "      <td>2</td>\n",
       "    </tr>\n",
       "    <tr>\n",
       "      <th>Lysolaje</th>\n",
       "      <td>2</td>\n",
       "    </tr>\n",
       "    <tr>\n",
       "      <th>Lipence</th>\n",
       "      <td>1</td>\n",
       "    </tr>\n",
       "    <tr>\n",
       "      <th>Královice</th>\n",
       "      <td>1</td>\n",
       "    </tr>\n",
       "    <tr>\n",
       "      <th>Kolovraty</th>\n",
       "      <td>1</td>\n",
       "    </tr>\n",
       "    <tr>\n",
       "      <th>Klánovice</th>\n",
       "      <td>1</td>\n",
       "    </tr>\n",
       "    <tr>\n",
       "      <th>Dubeč</th>\n",
       "      <td>1</td>\n",
       "    </tr>\n",
       "    <tr>\n",
       "      <th>Štěrboholy</th>\n",
       "      <td>1</td>\n",
       "    </tr>\n",
       "  </tbody>\n",
       "</table>\n",
       "</div>"
      ],
      "text/plain": [
       "                   id\n",
       "neighbourhood        \n",
       "Praha 1          3228\n",
       "Praha 2          1567\n",
       "Praha 3           987\n",
       "Praha 5           780\n",
       "Praha 8           497\n",
       "Praha 7           364\n",
       "Praha 6           308\n",
       "Praha 10          278\n",
       "Praha 4           270\n",
       "Praha 9           103\n",
       "Praha 13           59\n",
       "Praha 11           38\n",
       "Praha 14           33\n",
       "Praha 12           26\n",
       "Praha 15           23\n",
       "Libuš              18\n",
       "Zličín             12\n",
       "Praha 19           11\n",
       "Praha 17           11\n",
       "Zbraslav           10\n",
       "Kunratice          10\n",
       "Praha 22           10\n",
       "Praha 18           10\n",
       "Velká Chuchle       9\n",
       "Slivenec            9\n",
       "Dolní Chabry        8\n",
       "Dolní Počernice     8\n",
       "Petrovice           6\n",
       "Nedvězí             5\n",
       "Praha 21            5\n",
       "Praha 16            5\n",
       "Čakovice            5\n",
       "Řeporyje            5\n",
       "Šeberov             5\n",
       "Vinoř               5\n",
       "Nebušice            5\n",
       "Troja               4\n",
       "Újezd               3\n",
       "Ďáblice             3\n",
       "Březiněves          3\n",
       "Satalice            3\n",
       "Suchdol             2\n",
       "Přední Kopanina     2\n",
       "Praha 20            2\n",
       "Lysolaje            2\n",
       "Lipence             1\n",
       "Královice           1\n",
       "Kolovraty           1\n",
       "Klánovice           1\n",
       "Dubeč               1\n",
       "Štěrboholy          1"
      ]
     },
     "execution_count": 134,
     "metadata": {},
     "output_type": "execute_result"
    }
   ],
   "source": [
    "sorted_neighbourhood = grouped_neighbourhood.sort_values(by='id', ascending=False)\n",
    "sorted_neighbourhood"
   ]
  },
  {
   "cell_type": "markdown",
   "id": "1e891118-a28e-4737-a316-93a94b03fecd",
   "metadata": {},
   "source": [
    "Let's look at the top 10 neighbourhoods with the most listings."
   ]
  },
  {
   "cell_type": "code",
   "execution_count": 137,
   "id": "7d253a7c-2dca-45e4-8de9-31b0e63020a2",
   "metadata": {},
   "outputs": [],
   "source": [
    "sorted_neighbourhood.reset_index(inplace=True)"
   ]
  },
  {
   "cell_type": "code",
   "execution_count": 139,
   "id": "c5a549ef-ffe4-4977-b7b8-095942751d59",
   "metadata": {},
   "outputs": [
    {
     "data": {
      "text/html": [
       "<div>\n",
       "<style scoped>\n",
       "    .dataframe tbody tr th:only-of-type {\n",
       "        vertical-align: middle;\n",
       "    }\n",
       "\n",
       "    .dataframe tbody tr th {\n",
       "        vertical-align: top;\n",
       "    }\n",
       "\n",
       "    .dataframe thead th {\n",
       "        text-align: right;\n",
       "    }\n",
       "</style>\n",
       "<table border=\"1\" class=\"dataframe\">\n",
       "  <thead>\n",
       "    <tr style=\"text-align: right;\">\n",
       "      <th></th>\n",
       "      <th>neighbourhood</th>\n",
       "      <th>id</th>\n",
       "    </tr>\n",
       "  </thead>\n",
       "  <tbody>\n",
       "    <tr>\n",
       "      <th>0</th>\n",
       "      <td>Praha 1</td>\n",
       "      <td>3228</td>\n",
       "    </tr>\n",
       "    <tr>\n",
       "      <th>1</th>\n",
       "      <td>Praha 2</td>\n",
       "      <td>1567</td>\n",
       "    </tr>\n",
       "    <tr>\n",
       "      <th>2</th>\n",
       "      <td>Praha 3</td>\n",
       "      <td>987</td>\n",
       "    </tr>\n",
       "    <tr>\n",
       "      <th>3</th>\n",
       "      <td>Praha 5</td>\n",
       "      <td>780</td>\n",
       "    </tr>\n",
       "    <tr>\n",
       "      <th>4</th>\n",
       "      <td>Praha 8</td>\n",
       "      <td>497</td>\n",
       "    </tr>\n",
       "    <tr>\n",
       "      <th>5</th>\n",
       "      <td>Praha 7</td>\n",
       "      <td>364</td>\n",
       "    </tr>\n",
       "    <tr>\n",
       "      <th>6</th>\n",
       "      <td>Praha 6</td>\n",
       "      <td>308</td>\n",
       "    </tr>\n",
       "    <tr>\n",
       "      <th>7</th>\n",
       "      <td>Praha 10</td>\n",
       "      <td>278</td>\n",
       "    </tr>\n",
       "    <tr>\n",
       "      <th>8</th>\n",
       "      <td>Praha 4</td>\n",
       "      <td>270</td>\n",
       "    </tr>\n",
       "    <tr>\n",
       "      <th>9</th>\n",
       "      <td>Praha 9</td>\n",
       "      <td>103</td>\n",
       "    </tr>\n",
       "  </tbody>\n",
       "</table>\n",
       "</div>"
      ],
      "text/plain": [
       "  neighbourhood    id\n",
       "0       Praha 1  3228\n",
       "1       Praha 2  1567\n",
       "2       Praha 3   987\n",
       "3       Praha 5   780\n",
       "4       Praha 8   497\n",
       "5       Praha 7   364\n",
       "6       Praha 6   308\n",
       "7      Praha 10   278\n",
       "8       Praha 4   270\n",
       "9       Praha 9   103"
      ]
     },
     "execution_count": 139,
     "metadata": {},
     "output_type": "execute_result"
    }
   ],
   "source": [
    "sorted_neighbourhood[:10]"
   ]
  },
  {
   "cell_type": "markdown",
   "id": "638ecc16-a0df-481e-8f43-66937601f405",
   "metadata": {},
   "source": [
    "### Adding New Data"
   ]
  },
  {
   "cell_type": "markdown",
   "id": "596e50bd-9202-4c88-bee9-f216f0914218",
   "metadata": {},
   "source": [
    "#### Real Estate Price Integration and Comparison"
   ]
  },
  {
   "cell_type": "markdown",
   "id": "6c78f597-202b-4337-94b1-69ebf294540e",
   "metadata": {},
   "source": [
    "To enhance our analysis, we gathered real estate prices from *Sreality*, the largest Czech real estate portal (<a href=\"www.sreality.cz/cenova-mapa/hledani/byty/hlavni-mesto-praha-10\">source</a>). These prices are defined at the cadastral area level, requiring us to map them to neighborhoods in our Airbnb dataset.\n",
    "<br>\n",
    "To establish this connection, we utilize higher administrative units, specifically administrative districts, as an intermediary step. The administrative district data was sourced from <a href=\"https://en.wikipedia.org/wiki/Districts_of_Prague\">Wikipedia</a>. Additionally, ZIP codes were incorporated into the dataset using information from <a href=\"https://postovnismerovacicisla.cz/psc/Praha\">ZIP codes webpage</a> to enable geospatial visualization.\n",
    "<br>This structured approach ensures accurate alignment between real estate data and Airbnb listings, facilitating more insightful market comparisons."
   ]
  },
  {
   "cell_type": "markdown",
   "id": "cf296f2a-cf9e-42e0-b1da-8f8ea332365b",
   "metadata": {},
   "source": [
    "Uploading *ZIP codes* and *prices* datasets."
   ]
  },
  {
   "cell_type": "code",
   "execution_count": 145,
   "id": "a6ec6843-72d2-41ed-ae2c-20407c0bbaa0",
   "metadata": {},
   "outputs": [],
   "source": [
    "cadastral_area = pd.read_excel(r\"Prague_ZIP_Codes - filtered.xlsx\")"
   ]
  },
  {
   "cell_type": "code",
   "execution_count": 147,
   "id": "b91f4cc6-5be3-433e-9b4e-45302d59fb43",
   "metadata": {},
   "outputs": [
    {
     "data": {
      "text/html": [
       "<div>\n",
       "<style scoped>\n",
       "    .dataframe tbody tr th:only-of-type {\n",
       "        vertical-align: middle;\n",
       "    }\n",
       "\n",
       "    .dataframe tbody tr th {\n",
       "        vertical-align: top;\n",
       "    }\n",
       "\n",
       "    .dataframe thead th {\n",
       "        text-align: right;\n",
       "    }\n",
       "</style>\n",
       "<table border=\"1\" class=\"dataframe\">\n",
       "  <thead>\n",
       "    <tr style=\"text-align: right;\">\n",
       "      <th></th>\n",
       "      <th>ZIP_Code</th>\n",
       "      <th>Cadastral_Area</th>\n",
       "      <th>Administrative_District</th>\n",
       "      <th>Municipal_District</th>\n",
       "    </tr>\n",
       "  </thead>\n",
       "  <tbody>\n",
       "    <tr>\n",
       "      <th>84</th>\n",
       "      <td>18000</td>\n",
       "      <td>Libeň</td>\n",
       "      <td>Praha 8</td>\n",
       "      <td>Praha 8</td>\n",
       "    </tr>\n",
       "    <tr>\n",
       "      <th>108</th>\n",
       "      <td>19800</td>\n",
       "      <td>Hostavice</td>\n",
       "      <td>Praha 14</td>\n",
       "      <td>Praha 9</td>\n",
       "    </tr>\n",
       "    <tr>\n",
       "      <th>48</th>\n",
       "      <td>15000</td>\n",
       "      <td>Radlice</td>\n",
       "      <td>Praha 5</td>\n",
       "      <td>Praha 5</td>\n",
       "    </tr>\n",
       "  </tbody>\n",
       "</table>\n",
       "</div>"
      ],
      "text/plain": [
       "     ZIP_Code Cadastral_Area Administrative_District Municipal_District\n",
       "84      18000          Libeň                 Praha 8            Praha 8\n",
       "108     19800      Hostavice                Praha 14            Praha 9\n",
       "48      15000        Radlice                 Praha 5            Praha 5"
      ]
     },
     "execution_count": 147,
     "metadata": {},
     "output_type": "execute_result"
    }
   ],
   "source": [
    "cadastral_area.sample(3)"
   ]
  },
  {
   "cell_type": "code",
   "execution_count": 149,
   "id": "4093b146-8266-4e1f-8a18-f50d4e39700d",
   "metadata": {},
   "outputs": [
    {
     "data": {
      "text/plain": [
       "(113, 4)"
      ]
     },
     "execution_count": 149,
     "metadata": {},
     "output_type": "execute_result"
    }
   ],
   "source": [
    "cadastral_area.shape"
   ]
  },
  {
   "cell_type": "code",
   "execution_count": 151,
   "id": "5d928fd0-0802-46f0-a406-2e98746fc8f0",
   "metadata": {},
   "outputs": [],
   "source": [
    "prices_cadastral = pd.read_excel(r\"prices - Prague districts.xlsx\")"
   ]
  },
  {
   "cell_type": "code",
   "execution_count": 153,
   "id": "6e2693d5-2971-4360-9003-45257bc07262",
   "metadata": {},
   "outputs": [
    {
     "data": {
      "text/html": [
       "<div>\n",
       "<style scoped>\n",
       "    .dataframe tbody tr th:only-of-type {\n",
       "        vertical-align: middle;\n",
       "    }\n",
       "\n",
       "    .dataframe tbody tr th {\n",
       "        vertical-align: top;\n",
       "    }\n",
       "\n",
       "    .dataframe thead th {\n",
       "        text-align: right;\n",
       "    }\n",
       "</style>\n",
       "<table border=\"1\" class=\"dataframe\">\n",
       "  <thead>\n",
       "    <tr style=\"text-align: right;\">\n",
       "      <th></th>\n",
       "      <th>Cadastral_Area</th>\n",
       "      <th>Price_PSM</th>\n",
       "      <th>Administrative_District</th>\n",
       "    </tr>\n",
       "  </thead>\n",
       "  <tbody>\n",
       "    <tr>\n",
       "      <th>99</th>\n",
       "      <td>Žižkov</td>\n",
       "      <td>147461</td>\n",
       "      <td>Praha 3</td>\n",
       "    </tr>\n",
       "    <tr>\n",
       "      <th>16</th>\n",
       "      <td>Hloubětín</td>\n",
       "      <td>124811</td>\n",
       "      <td>Praha 9</td>\n",
       "    </tr>\n",
       "    <tr>\n",
       "      <th>49</th>\n",
       "      <td>Malá Strana</td>\n",
       "      <td>179970</td>\n",
       "      <td>Praha 1</td>\n",
       "    </tr>\n",
       "  </tbody>\n",
       "</table>\n",
       "</div>"
      ],
      "text/plain": [
       "   Cadastral_Area  Price_PSM Administrative_District\n",
       "99         Žižkov     147461                 Praha 3\n",
       "16      Hloubětín     124811                 Praha 9\n",
       "49    Malá Strana     179970                 Praha 1"
      ]
     },
     "execution_count": 153,
     "metadata": {},
     "output_type": "execute_result"
    }
   ],
   "source": [
    "prices_cadastral.sample(3)"
   ]
  },
  {
   "cell_type": "code",
   "execution_count": 155,
   "id": "d0039a3c-cfdd-4104-8594-f898b3aaa9c2",
   "metadata": {},
   "outputs": [
    {
     "data": {
      "text/plain": [
       "(100, 3)"
      ]
     },
     "execution_count": 155,
     "metadata": {},
     "output_type": "execute_result"
    }
   ],
   "source": [
    "prices_cadastral.shape"
   ]
  },
  {
   "cell_type": "code",
   "execution_count": 157,
   "id": "5e68e2f8-2960-4098-957a-821f50012d1b",
   "metadata": {},
   "outputs": [
    {
     "name": "stdout",
     "output_type": "stream",
     "text": [
      "<class 'pandas.core.frame.DataFrame'>\n",
      "RangeIndex: 100 entries, 0 to 99\n",
      "Data columns (total 3 columns):\n",
      " #   Column                   Non-Null Count  Dtype \n",
      "---  ------                   --------------  ----- \n",
      " 0   Cadastral_Area           100 non-null    object\n",
      " 1   Price_PSM                100 non-null    int64 \n",
      " 2   Administrative_District  100 non-null    object\n",
      "dtypes: int64(1), object(2)\n",
      "memory usage: 2.5+ KB\n"
     ]
    }
   ],
   "source": [
    "prices_cadastral.info()"
   ]
  },
  {
   "cell_type": "markdown",
   "id": "9089db25-ed01-4229-8a37-f3ea8cfd558e",
   "metadata": {},
   "source": [
    "Merging the datasets, to assign the prices per square meter:"
   ]
  },
  {
   "cell_type": "code",
   "execution_count": 160,
   "id": "2999aabb-7584-4d35-a840-e11ac49559aa",
   "metadata": {},
   "outputs": [
    {
     "data": {
      "text/html": [
       "<div>\n",
       "<style scoped>\n",
       "    .dataframe tbody tr th:only-of-type {\n",
       "        vertical-align: middle;\n",
       "    }\n",
       "\n",
       "    .dataframe tbody tr th {\n",
       "        vertical-align: top;\n",
       "    }\n",
       "\n",
       "    .dataframe thead th {\n",
       "        text-align: right;\n",
       "    }\n",
       "</style>\n",
       "<table border=\"1\" class=\"dataframe\">\n",
       "  <thead>\n",
       "    <tr style=\"text-align: right;\">\n",
       "      <th></th>\n",
       "      <th>ZIP_Code</th>\n",
       "      <th>Cadastral_Area</th>\n",
       "      <th>Administrative_District</th>\n",
       "      <th>Municipal_District</th>\n",
       "      <th>Price_PSM</th>\n",
       "    </tr>\n",
       "  </thead>\n",
       "  <tbody>\n",
       "    <tr>\n",
       "      <th>0</th>\n",
       "      <td>10000</td>\n",
       "      <td>Vršovice</td>\n",
       "      <td>Praha 10</td>\n",
       "      <td>Praha 10</td>\n",
       "      <td>131082.00000</td>\n",
       "    </tr>\n",
       "    <tr>\n",
       "      <th>1</th>\n",
       "      <td>10200</td>\n",
       "      <td>Hostivař</td>\n",
       "      <td>Praha 15</td>\n",
       "      <td>Praha 10</td>\n",
       "      <td>114577.00000</td>\n",
       "    </tr>\n",
       "    <tr>\n",
       "      <th>2</th>\n",
       "      <td>10200</td>\n",
       "      <td>Štěrboholy</td>\n",
       "      <td>Praha 15</td>\n",
       "      <td>Praha 10</td>\n",
       "      <td>123548.00000</td>\n",
       "    </tr>\n",
       "    <tr>\n",
       "      <th>3</th>\n",
       "      <td>10300</td>\n",
       "      <td>Lipany</td>\n",
       "      <td>Praha 21</td>\n",
       "      <td>Praha 10</td>\n",
       "      <td>NaN</td>\n",
       "    </tr>\n",
       "    <tr>\n",
       "      <th>4</th>\n",
       "      <td>10300</td>\n",
       "      <td>Benice</td>\n",
       "      <td>Praha 22</td>\n",
       "      <td>Praha 10</td>\n",
       "      <td>NaN</td>\n",
       "    </tr>\n",
       "    <tr>\n",
       "      <th>...</th>\n",
       "      <td>...</td>\n",
       "      <td>...</td>\n",
       "      <td>...</td>\n",
       "      <td>...</td>\n",
       "      <td>...</td>\n",
       "    </tr>\n",
       "    <tr>\n",
       "      <th>108</th>\n",
       "      <td>19800</td>\n",
       "      <td>Hostavice</td>\n",
       "      <td>Praha 14</td>\n",
       "      <td>Praha 9</td>\n",
       "      <td>126315.00000</td>\n",
       "    </tr>\n",
       "    <tr>\n",
       "      <th>109</th>\n",
       "      <td>19800</td>\n",
       "      <td>Kyje</td>\n",
       "      <td>Praha 14</td>\n",
       "      <td>Praha 9</td>\n",
       "      <td>122123.00000</td>\n",
       "    </tr>\n",
       "    <tr>\n",
       "      <th>110</th>\n",
       "      <td>19800</td>\n",
       "      <td>Černý Most</td>\n",
       "      <td>Praha 9</td>\n",
       "      <td>Praha 9</td>\n",
       "      <td>107845.00000</td>\n",
       "    </tr>\n",
       "    <tr>\n",
       "      <th>111</th>\n",
       "      <td>19800</td>\n",
       "      <td>Hloubětín</td>\n",
       "      <td>Praha 9</td>\n",
       "      <td>Praha 9</td>\n",
       "      <td>124811.00000</td>\n",
       "    </tr>\n",
       "    <tr>\n",
       "      <th>112</th>\n",
       "      <td>19900</td>\n",
       "      <td>Letňany</td>\n",
       "      <td>Praha 18</td>\n",
       "      <td>Praha 9</td>\n",
       "      <td>117818.00000</td>\n",
       "    </tr>\n",
       "  </tbody>\n",
       "</table>\n",
       "<p>113 rows × 5 columns</p>\n",
       "</div>"
      ],
      "text/plain": [
       "     ZIP_Code Cadastral_Area Administrative_District Municipal_District  \\\n",
       "0       10000       Vršovice                Praha 10           Praha 10   \n",
       "1       10200       Hostivař                Praha 15           Praha 10   \n",
       "2       10200     Štěrboholy                Praha 15           Praha 10   \n",
       "3       10300         Lipany                Praha 21           Praha 10   \n",
       "4       10300         Benice                Praha 22           Praha 10   \n",
       "..        ...            ...                     ...                ...   \n",
       "108     19800      Hostavice                Praha 14            Praha 9   \n",
       "109     19800           Kyje                Praha 14            Praha 9   \n",
       "110     19800     Černý Most                 Praha 9            Praha 9   \n",
       "111     19800      Hloubětín                 Praha 9            Praha 9   \n",
       "112     19900        Letňany                Praha 18            Praha 9   \n",
       "\n",
       "       Price_PSM  \n",
       "0   131082.00000  \n",
       "1   114577.00000  \n",
       "2   123548.00000  \n",
       "3            NaN  \n",
       "4            NaN  \n",
       "..           ...  \n",
       "108 126315.00000  \n",
       "109 122123.00000  \n",
       "110 107845.00000  \n",
       "111 124811.00000  \n",
       "112 117818.00000  \n",
       "\n",
       "[113 rows x 5 columns]"
      ]
     },
     "execution_count": 160,
     "metadata": {},
     "output_type": "execute_result"
    }
   ],
   "source": [
    "cadastral_prices = cadastral_area.merge(prices_cadastral, how=\"left\")\n",
    "cadastral_prices"
   ]
  },
  {
   "cell_type": "code",
   "execution_count": 162,
   "id": "ab758cb8-d635-434c-b0d9-d50e4cda43c2",
   "metadata": {},
   "outputs": [
    {
     "name": "stdout",
     "output_type": "stream",
     "text": [
      "<class 'pandas.core.frame.DataFrame'>\n",
      "RangeIndex: 113 entries, 0 to 112\n",
      "Data columns (total 5 columns):\n",
      " #   Column                   Non-Null Count  Dtype  \n",
      "---  ------                   --------------  -----  \n",
      " 0   ZIP_Code                 113 non-null    int64  \n",
      " 1   Cadastral_Area           113 non-null    object \n",
      " 2   Administrative_District  113 non-null    object \n",
      " 3   Municipal_District       113 non-null    object \n",
      " 4   Price_PSM                100 non-null    float64\n",
      "dtypes: float64(1), int64(1), object(3)\n",
      "memory usage: 4.5+ KB\n"
     ]
    }
   ],
   "source": [
    "cadastral_prices.info()"
   ]
  },
  {
   "cell_type": "markdown",
   "id": "e19117b6-1745-44b2-a76f-d52256127d95",
   "metadata": {},
   "source": [
    "Calculating the average values per administrative district."
   ]
  },
  {
   "cell_type": "code",
   "execution_count": 165,
   "id": "57597245-a79f-4a15-81f6-39f7a000a9db",
   "metadata": {},
   "outputs": [
    {
     "data": {
      "text/html": [
       "<div>\n",
       "<style scoped>\n",
       "    .dataframe tbody tr th:only-of-type {\n",
       "        vertical-align: middle;\n",
       "    }\n",
       "\n",
       "    .dataframe tbody tr th {\n",
       "        vertical-align: top;\n",
       "    }\n",
       "\n",
       "    .dataframe thead th {\n",
       "        text-align: right;\n",
       "    }\n",
       "</style>\n",
       "<table border=\"1\" class=\"dataframe\">\n",
       "  <thead>\n",
       "    <tr style=\"text-align: right;\">\n",
       "      <th></th>\n",
       "      <th>Price_PSM</th>\n",
       "    </tr>\n",
       "    <tr>\n",
       "      <th>Administrative_District</th>\n",
       "      <th></th>\n",
       "    </tr>\n",
       "  </thead>\n",
       "  <tbody>\n",
       "    <tr>\n",
       "      <th>Praha 2</th>\n",
       "      <td>156165.33333</td>\n",
       "    </tr>\n",
       "    <tr>\n",
       "      <th>Praha 17</th>\n",
       "      <td>116584.66667</td>\n",
       "    </tr>\n",
       "    <tr>\n",
       "      <th>Praha 3</th>\n",
       "      <td>147461.00000</td>\n",
       "    </tr>\n",
       "  </tbody>\n",
       "</table>\n",
       "</div>"
      ],
      "text/plain": [
       "                           Price_PSM\n",
       "Administrative_District             \n",
       "Praha 2                 156165.33333\n",
       "Praha 17                116584.66667\n",
       "Praha 3                 147461.00000"
      ]
     },
     "execution_count": 165,
     "metadata": {},
     "output_type": "execute_result"
    }
   ],
   "source": [
    "average_prices_neighbourhood = cadastral_prices.groupby(\"Administrative_District\").agg({\"Price_PSM\":\"mean\"})\n",
    "average_prices_neighbourhood.sample(3)"
   ]
  },
  {
   "cell_type": "markdown",
   "id": "876486de-5819-4439-8a6b-76c98522db42",
   "metadata": {},
   "source": [
    "Assigning the administrative district to all the *neighbourhoods* listed in our original dataset.\n",
    "<br>Merging both dataframes together and fill the missing municipality data where the districts names are based on municipalities."
   ]
  },
  {
   "cell_type": "code",
   "execution_count": 168,
   "id": "d4033a6d-e2b2-4d55-aca7-fcb8646434a5",
   "metadata": {},
   "outputs": [
    {
     "data": {
      "text/html": [
       "<div>\n",
       "<style scoped>\n",
       "    .dataframe tbody tr th:only-of-type {\n",
       "        vertical-align: middle;\n",
       "    }\n",
       "\n",
       "    .dataframe tbody tr th {\n",
       "        vertical-align: top;\n",
       "    }\n",
       "\n",
       "    .dataframe thead th {\n",
       "        text-align: right;\n",
       "    }\n",
       "</style>\n",
       "<table border=\"1\" class=\"dataframe\">\n",
       "  <thead>\n",
       "    <tr style=\"text-align: right;\">\n",
       "      <th></th>\n",
       "      <th>neighbourhood</th>\n",
       "      <th>id</th>\n",
       "    </tr>\n",
       "  </thead>\n",
       "  <tbody>\n",
       "    <tr>\n",
       "      <th>24</th>\n",
       "      <td>Slivenec</td>\n",
       "      <td>9</td>\n",
       "    </tr>\n",
       "    <tr>\n",
       "      <th>19</th>\n",
       "      <td>Zbraslav</td>\n",
       "      <td>10</td>\n",
       "    </tr>\n",
       "    <tr>\n",
       "      <th>25</th>\n",
       "      <td>Dolní Chabry</td>\n",
       "      <td>8</td>\n",
       "    </tr>\n",
       "  </tbody>\n",
       "</table>\n",
       "</div>"
      ],
      "text/plain": [
       "   neighbourhood  id\n",
       "24      Slivenec   9\n",
       "19      Zbraslav  10\n",
       "25  Dolní Chabry   8"
      ]
     },
     "execution_count": 168,
     "metadata": {},
     "output_type": "execute_result"
    }
   ],
   "source": [
    "sorted_neighbourhood.sample(3)"
   ]
  },
  {
   "cell_type": "code",
   "execution_count": 170,
   "id": "0a7b78c6-3d88-4546-90fd-5bd4db7cd475",
   "metadata": {},
   "outputs": [
    {
     "data": {
      "text/html": [
       "<div>\n",
       "<style scoped>\n",
       "    .dataframe tbody tr th:only-of-type {\n",
       "        vertical-align: middle;\n",
       "    }\n",
       "\n",
       "    .dataframe tbody tr th {\n",
       "        vertical-align: top;\n",
       "    }\n",
       "\n",
       "    .dataframe thead th {\n",
       "        text-align: right;\n",
       "    }\n",
       "</style>\n",
       "<table border=\"1\" class=\"dataframe\">\n",
       "  <thead>\n",
       "    <tr style=\"text-align: right;\">\n",
       "      <th></th>\n",
       "      <th>neighbourhood</th>\n",
       "      <th>id</th>\n",
       "      <th>Administrative_District</th>\n",
       "    </tr>\n",
       "  </thead>\n",
       "  <tbody>\n",
       "    <tr>\n",
       "      <th>40</th>\n",
       "      <td>Satalice</td>\n",
       "      <td>3</td>\n",
       "      <td>Praha 19</td>\n",
       "    </tr>\n",
       "    <tr>\n",
       "      <th>29</th>\n",
       "      <td>Praha 21</td>\n",
       "      <td>5</td>\n",
       "      <td>NaN</td>\n",
       "    </tr>\n",
       "    <tr>\n",
       "      <th>47</th>\n",
       "      <td>Kolovraty</td>\n",
       "      <td>1</td>\n",
       "      <td>Praha 22</td>\n",
       "    </tr>\n",
       "    <tr>\n",
       "      <th>37</th>\n",
       "      <td>Újezd</td>\n",
       "      <td>3</td>\n",
       "      <td>Praha 11</td>\n",
       "    </tr>\n",
       "    <tr>\n",
       "      <th>1</th>\n",
       "      <td>Praha 2</td>\n",
       "      <td>1567</td>\n",
       "      <td>NaN</td>\n",
       "    </tr>\n",
       "  </tbody>\n",
       "</table>\n",
       "</div>"
      ],
      "text/plain": [
       "   neighbourhood    id Administrative_District\n",
       "40      Satalice     3                Praha 19\n",
       "29      Praha 21     5                     NaN\n",
       "47     Kolovraty     1                Praha 22\n",
       "37         Újezd     3                Praha 11\n",
       "1        Praha 2  1567                     NaN"
      ]
     },
     "execution_count": 170,
     "metadata": {},
     "output_type": "execute_result"
    }
   ],
   "source": [
    "neighbourhood_expanded = sorted_neighbourhood.merge(cadastral_prices[[\"Cadastral_Area\", \"Administrative_District\"]], how=\"left\", left_on=\"neighbourhood\", right_on=\"Cadastral_Area\").drop(\"Cadastral_Area\", axis=1)\n",
    "neighbourhood_expanded.sample(5)"
   ]
  },
  {
   "cell_type": "markdown",
   "id": "370ca194-7348-4534-ba42-aa215c72ae66",
   "metadata": {},
   "source": [
    "Filling in the NaN values."
   ]
  },
  {
   "cell_type": "code",
   "execution_count": 173,
   "id": "df8da416-91e1-407b-9669-78679bd5e3cb",
   "metadata": {},
   "outputs": [
    {
     "data": {
      "text/html": [
       "<div>\n",
       "<style scoped>\n",
       "    .dataframe tbody tr th:only-of-type {\n",
       "        vertical-align: middle;\n",
       "    }\n",
       "\n",
       "    .dataframe tbody tr th {\n",
       "        vertical-align: top;\n",
       "    }\n",
       "\n",
       "    .dataframe thead th {\n",
       "        text-align: right;\n",
       "    }\n",
       "</style>\n",
       "<table border=\"1\" class=\"dataframe\">\n",
       "  <thead>\n",
       "    <tr style=\"text-align: right;\">\n",
       "      <th></th>\n",
       "      <th>neighbourhood</th>\n",
       "      <th>id</th>\n",
       "      <th>Administrative_District</th>\n",
       "    </tr>\n",
       "  </thead>\n",
       "  <tbody>\n",
       "    <tr>\n",
       "      <th>47</th>\n",
       "      <td>Kolovraty</td>\n",
       "      <td>1</td>\n",
       "      <td>Praha 22</td>\n",
       "    </tr>\n",
       "    <tr>\n",
       "      <th>15</th>\n",
       "      <td>Libuš</td>\n",
       "      <td>18</td>\n",
       "      <td>Praha 12</td>\n",
       "    </tr>\n",
       "    <tr>\n",
       "      <th>25</th>\n",
       "      <td>Dolní Chabry</td>\n",
       "      <td>8</td>\n",
       "      <td>Praha 8</td>\n",
       "    </tr>\n",
       "    <tr>\n",
       "      <th>26</th>\n",
       "      <td>Dolní Počernice</td>\n",
       "      <td>8</td>\n",
       "      <td>Praha 9</td>\n",
       "    </tr>\n",
       "    <tr>\n",
       "      <th>41</th>\n",
       "      <td>Suchdol</td>\n",
       "      <td>2</td>\n",
       "      <td>Praha 6</td>\n",
       "    </tr>\n",
       "  </tbody>\n",
       "</table>\n",
       "</div>"
      ],
      "text/plain": [
       "      neighbourhood  id Administrative_District\n",
       "47        Kolovraty   1                Praha 22\n",
       "15            Libuš  18                Praha 12\n",
       "25     Dolní Chabry   8                 Praha 8\n",
       "26  Dolní Počernice   8                 Praha 9\n",
       "41          Suchdol   2                 Praha 6"
      ]
     },
     "execution_count": 173,
     "metadata": {},
     "output_type": "execute_result"
    }
   ],
   "source": [
    "neighbourhood_expanded[\"Administrative_District\"] = neighbourhood_expanded[\"Administrative_District\"].fillna(neighbourhood_expanded[\"neighbourhood\"])\n",
    "neighbourhood_expanded.sample(5)"
   ]
  },
  {
   "cell_type": "markdown",
   "id": "e7d65fa2-0630-47a9-aa1d-84827e14321a",
   "metadata": {},
   "source": [
    "Group listings count according to administrative districts."
   ]
  },
  {
   "cell_type": "code",
   "execution_count": 176,
   "id": "8f3e6f46-7d23-43b4-bc33-62d5193db226",
   "metadata": {},
   "outputs": [
    {
     "data": {
      "text/html": [
       "<div>\n",
       "<style scoped>\n",
       "    .dataframe tbody tr th:only-of-type {\n",
       "        vertical-align: middle;\n",
       "    }\n",
       "\n",
       "    .dataframe tbody tr th {\n",
       "        vertical-align: top;\n",
       "    }\n",
       "\n",
       "    .dataframe thead th {\n",
       "        text-align: right;\n",
       "    }\n",
       "</style>\n",
       "<table border=\"1\" class=\"dataframe\">\n",
       "  <thead>\n",
       "    <tr style=\"text-align: right;\">\n",
       "      <th></th>\n",
       "      <th>id</th>\n",
       "    </tr>\n",
       "    <tr>\n",
       "      <th>Administrative_District</th>\n",
       "      <th></th>\n",
       "    </tr>\n",
       "  </thead>\n",
       "  <tbody>\n",
       "    <tr>\n",
       "      <th>Praha 1</th>\n",
       "      <td>3228</td>\n",
       "    </tr>\n",
       "    <tr>\n",
       "      <th>Praha 10</th>\n",
       "      <td>279</td>\n",
       "    </tr>\n",
       "    <tr>\n",
       "      <th>Praha 11</th>\n",
       "      <td>46</td>\n",
       "    </tr>\n",
       "    <tr>\n",
       "      <th>Praha 12</th>\n",
       "      <td>44</td>\n",
       "    </tr>\n",
       "    <tr>\n",
       "      <th>Praha 13</th>\n",
       "      <td>64</td>\n",
       "    </tr>\n",
       "  </tbody>\n",
       "</table>\n",
       "</div>"
      ],
      "text/plain": [
       "                           id\n",
       "Administrative_District      \n",
       "Praha 1                  3228\n",
       "Praha 10                  279\n",
       "Praha 11                   46\n",
       "Praha 12                   44\n",
       "Praha 13                   64"
      ]
     },
     "execution_count": 176,
     "metadata": {},
     "output_type": "execute_result"
    }
   ],
   "source": [
    "grouped_neighbourhood_expanded = neighbourhood_expanded.groupby(\"Administrative_District\").agg({\"id\":\"sum\"})\n",
    "grouped_neighbourhood_expanded.head()"
   ]
  },
  {
   "cell_type": "markdown",
   "id": "045d8c5b-6a64-49a4-9bee-fc3d8f1fcb18",
   "metadata": {},
   "source": [
    "Grouping the administrative districts, so the average buying price per square meter in each of 22 administrative districts can be calculated. Applying that given price to *neighbourhood* column in our original dataset.\n",
    "<br>Sorting the prices from highest to lowest."
   ]
  },
  {
   "cell_type": "code",
   "execution_count": 179,
   "id": "90cf3223-0442-4e8f-ae79-9803eb5f22b6",
   "metadata": {},
   "outputs": [
    {
     "data": {
      "text/html": [
       "<div>\n",
       "<style scoped>\n",
       "    .dataframe tbody tr th:only-of-type {\n",
       "        vertical-align: middle;\n",
       "    }\n",
       "\n",
       "    .dataframe tbody tr th {\n",
       "        vertical-align: top;\n",
       "    }\n",
       "\n",
       "    .dataframe thead th {\n",
       "        text-align: right;\n",
       "    }\n",
       "</style>\n",
       "<table border=\"1\" class=\"dataframe\">\n",
       "  <thead>\n",
       "    <tr style=\"text-align: right;\">\n",
       "      <th></th>\n",
       "      <th>Price_PSM</th>\n",
       "    </tr>\n",
       "    <tr>\n",
       "      <th>Administrative_District</th>\n",
       "      <th></th>\n",
       "    </tr>\n",
       "  </thead>\n",
       "  <tbody>\n",
       "    <tr>\n",
       "      <th>Praha 1</th>\n",
       "      <td>200259.00000</td>\n",
       "    </tr>\n",
       "    <tr>\n",
       "      <th>Praha 10</th>\n",
       "      <td>120639.00000</td>\n",
       "    </tr>\n",
       "    <tr>\n",
       "      <th>Praha 11</th>\n",
       "      <td>119014.00000</td>\n",
       "    </tr>\n",
       "    <tr>\n",
       "      <th>Praha 12</th>\n",
       "      <td>110341.28571</td>\n",
       "    </tr>\n",
       "    <tr>\n",
       "      <th>Praha 13</th>\n",
       "      <td>132776.33333</td>\n",
       "    </tr>\n",
       "  </tbody>\n",
       "</table>\n",
       "</div>"
      ],
      "text/plain": [
       "                           Price_PSM\n",
       "Administrative_District             \n",
       "Praha 1                 200259.00000\n",
       "Praha 10                120639.00000\n",
       "Praha 11                119014.00000\n",
       "Praha 12                110341.28571\n",
       "Praha 13                132776.33333"
      ]
     },
     "execution_count": 179,
     "metadata": {},
     "output_type": "execute_result"
    }
   ],
   "source": [
    "prices_grouped = cadastral_prices.groupby(\"Administrative_District\").agg({\"Price_PSM\":\"mean\"})\n",
    "prices_grouped.head()"
   ]
  },
  {
   "cell_type": "code",
   "execution_count": 181,
   "id": "4b896e2a-daef-44b8-80b6-0ba3eb826bd2",
   "metadata": {},
   "outputs": [
    {
     "data": {
      "text/html": [
       "<div>\n",
       "<style scoped>\n",
       "    .dataframe tbody tr th:only-of-type {\n",
       "        vertical-align: middle;\n",
       "    }\n",
       "\n",
       "    .dataframe tbody tr th {\n",
       "        vertical-align: top;\n",
       "    }\n",
       "\n",
       "    .dataframe thead th {\n",
       "        text-align: right;\n",
       "    }\n",
       "</style>\n",
       "<table border=\"1\" class=\"dataframe\">\n",
       "  <thead>\n",
       "    <tr style=\"text-align: right;\">\n",
       "      <th></th>\n",
       "      <th>Price_PSM</th>\n",
       "    </tr>\n",
       "    <tr>\n",
       "      <th>Administrative_District</th>\n",
       "      <th></th>\n",
       "    </tr>\n",
       "  </thead>\n",
       "  <tbody>\n",
       "    <tr>\n",
       "      <th>Praha 1</th>\n",
       "      <td>200259.00000</td>\n",
       "    </tr>\n",
       "    <tr>\n",
       "      <th>Praha 2</th>\n",
       "      <td>156165.33333</td>\n",
       "    </tr>\n",
       "    <tr>\n",
       "      <th>Praha 3</th>\n",
       "      <td>147461.00000</td>\n",
       "    </tr>\n",
       "    <tr>\n",
       "      <th>Praha 5</th>\n",
       "      <td>141604.14286</td>\n",
       "    </tr>\n",
       "    <tr>\n",
       "      <th>Praha 7</th>\n",
       "      <td>134969.50000</td>\n",
       "    </tr>\n",
       "  </tbody>\n",
       "</table>\n",
       "</div>"
      ],
      "text/plain": [
       "                           Price_PSM\n",
       "Administrative_District             \n",
       "Praha 1                 200259.00000\n",
       "Praha 2                 156165.33333\n",
       "Praha 3                 147461.00000\n",
       "Praha 5                 141604.14286\n",
       "Praha 7                 134969.50000"
      ]
     },
     "execution_count": 181,
     "metadata": {},
     "output_type": "execute_result"
    }
   ],
   "source": [
    "prices_grouped_sorted = prices_grouped.sort_values(by='Price_PSM', ascending=False)\n",
    "prices_grouped_sorted.head()"
   ]
  },
  {
   "cell_type": "code",
   "execution_count": 183,
   "id": "dc7344c8-d3a6-4ff5-94f2-01014e6fff64",
   "metadata": {},
   "outputs": [],
   "source": [
    "prices_grouped_sorted.reset_index(inplace=True)"
   ]
  },
  {
   "cell_type": "code",
   "execution_count": 185,
   "id": "031f1364-a5d7-470c-a86a-5a7ebcd89f26",
   "metadata": {},
   "outputs": [
    {
     "data": {
      "text/plain": [
       "Text(0.5, 1.0, 'Top 10 districts with the highest prices per sq. meter in Prague')"
      ]
     },
     "execution_count": 185,
     "metadata": {},
     "output_type": "execute_result"
    },
    {
     "data": {
      "image/png": "[encoded data removed]",
      "text/plain": [
       "<Figure size 640x480 with 1 Axes>"
      ]
     },
     "metadata": {},
     "output_type": "display_data"
    }
   ],
   "source": [
    "sns.barplot(x=prices_grouped_sorted.Administrative_District [:10],\n",
    "            y=prices_grouped_sorted.Price_PSM,\n",
    "            color=\"brown\",\n",
    "            edgecolor=\"black\")\n",
    "\n",
    "plt.xticks(fontsize=7, rotation=45)\n",
    "\n",
    "plt.title(\"Top 10 districts with the highest prices per sq. meter in Prague\")"
   ]
  },
  {
   "cell_type": "markdown",
   "id": "6e041861-14cb-474a-b0bb-7f7ab8e0c0e8",
   "metadata": {},
   "source": [
    "#### Adding the *Administrative District* column to our original listings dataset"
   ]
  },
  {
   "cell_type": "code",
   "execution_count": 188,
   "id": "09986a3e-1f5f-4d6e-88f4-5c003c4df480",
   "metadata": {},
   "outputs": [
    {
     "data": {
      "text/html": [
       "<div>\n",
       "<style scoped>\n",
       "    .dataframe tbody tr th:only-of-type {\n",
       "        vertical-align: middle;\n",
       "    }\n",
       "\n",
       "    .dataframe tbody tr th {\n",
       "        vertical-align: top;\n",
       "    }\n",
       "\n",
       "    .dataframe thead th {\n",
       "        text-align: right;\n",
       "    }\n",
       "</style>\n",
       "<table border=\"1\" class=\"dataframe\">\n",
       "  <thead>\n",
       "    <tr style=\"text-align: right;\">\n",
       "      <th></th>\n",
       "      <th>id</th>\n",
       "      <th>name</th>\n",
       "      <th>host_id</th>\n",
       "      <th>host_name</th>\n",
       "      <th>neighbourhood</th>\n",
       "      <th>latitude</th>\n",
       "      <th>longitude</th>\n",
       "      <th>room_type</th>\n",
       "      <th>price</th>\n",
       "      <th>minimum_nights</th>\n",
       "      <th>number_of_reviews</th>\n",
       "      <th>last_review</th>\n",
       "      <th>reviews_per_month</th>\n",
       "      <th>calculated_host_listings_count</th>\n",
       "      <th>availability_365</th>\n",
       "      <th>number_of_reviews_ltm</th>\n",
       "      <th>potential_revenue</th>\n",
       "      <th>availability_cat</th>\n",
       "    </tr>\n",
       "  </thead>\n",
       "  <tbody>\n",
       "    <tr>\n",
       "      <th>434</th>\n",
       "      <td>4782133</td>\n",
       "      <td>HOTEL ROOM IN CENTRAL OF PRAGUE</td>\n",
       "      <td>1112333</td>\n",
       "      <td>Igor</td>\n",
       "      <td>Praha 2</td>\n",
       "      <td>50.07060</td>\n",
       "      <td>14.43003</td>\n",
       "      <td>Entire home/apt</td>\n",
       "      <td>6923.00000</td>\n",
       "      <td>3</td>\n",
       "      <td>65</td>\n",
       "      <td>2022-06-14</td>\n",
       "      <td>0.52000</td>\n",
       "      <td>12</td>\n",
       "      <td>365</td>\n",
       "      <td>0</td>\n",
       "      <td>1794095.45000</td>\n",
       "      <td>high</td>\n",
       "    </tr>\n",
       "  </tbody>\n",
       "</table>\n",
       "</div>"
      ],
      "text/plain": [
       "          id                             name  host_id host_name  \\\n",
       "434  4782133  HOTEL ROOM IN CENTRAL OF PRAGUE  1112333      Igor   \n",
       "\n",
       "    neighbourhood  latitude  longitude        room_type      price  \\\n",
       "434       Praha 2  50.07060   14.43003  Entire home/apt 6923.00000   \n",
       "\n",
       "     minimum_nights  number_of_reviews last_review  reviews_per_month  \\\n",
       "434               3                 65  2022-06-14            0.52000   \n",
       "\n",
       "     calculated_host_listings_count  availability_365  number_of_reviews_ltm  \\\n",
       "434                              12               365                      0   \n",
       "\n",
       "     potential_revenue availability_cat  \n",
       "434      1794095.45000             high  "
      ]
     },
     "execution_count": 188,
     "metadata": {},
     "output_type": "execute_result"
    }
   ],
   "source": [
    "df_3.sample()"
   ]
  },
  {
   "cell_type": "code",
   "execution_count": 190,
   "id": "f4376ccc-66cb-4ba3-9ac1-58837a6db2c0",
   "metadata": {},
   "outputs": [
    {
     "data": {
      "text/html": [
       "<div>\n",
       "<style scoped>\n",
       "    .dataframe tbody tr th:only-of-type {\n",
       "        vertical-align: middle;\n",
       "    }\n",
       "\n",
       "    .dataframe tbody tr th {\n",
       "        vertical-align: top;\n",
       "    }\n",
       "\n",
       "    .dataframe thead th {\n",
       "        text-align: right;\n",
       "    }\n",
       "</style>\n",
       "<table border=\"1\" class=\"dataframe\">\n",
       "  <thead>\n",
       "    <tr style=\"text-align: right;\">\n",
       "      <th></th>\n",
       "      <th>ZIP_Code</th>\n",
       "      <th>Cadastral_Area</th>\n",
       "      <th>Administrative_District</th>\n",
       "      <th>Municipal_District</th>\n",
       "    </tr>\n",
       "  </thead>\n",
       "  <tbody>\n",
       "    <tr>\n",
       "      <th>0</th>\n",
       "      <td>10000</td>\n",
       "      <td>Vršovice</td>\n",
       "      <td>Praha 10</td>\n",
       "      <td>Praha 10</td>\n",
       "    </tr>\n",
       "    <tr>\n",
       "      <th>1</th>\n",
       "      <td>10200</td>\n",
       "      <td>Hostivař</td>\n",
       "      <td>Praha 15</td>\n",
       "      <td>Praha 10</td>\n",
       "    </tr>\n",
       "    <tr>\n",
       "      <th>2</th>\n",
       "      <td>10200</td>\n",
       "      <td>Štěrboholy</td>\n",
       "      <td>Praha 15</td>\n",
       "      <td>Praha 10</td>\n",
       "    </tr>\n",
       "    <tr>\n",
       "      <th>3</th>\n",
       "      <td>10300</td>\n",
       "      <td>Lipany</td>\n",
       "      <td>Praha 21</td>\n",
       "      <td>Praha 10</td>\n",
       "    </tr>\n",
       "    <tr>\n",
       "      <th>4</th>\n",
       "      <td>10300</td>\n",
       "      <td>Benice</td>\n",
       "      <td>Praha 22</td>\n",
       "      <td>Praha 10</td>\n",
       "    </tr>\n",
       "  </tbody>\n",
       "</table>\n",
       "</div>"
      ],
      "text/plain": [
       "   ZIP_Code Cadastral_Area Administrative_District Municipal_District\n",
       "0     10000       Vršovice                Praha 10           Praha 10\n",
       "1     10200       Hostivař                Praha 15           Praha 10\n",
       "2     10200     Štěrboholy                Praha 15           Praha 10\n",
       "3     10300         Lipany                Praha 21           Praha 10\n",
       "4     10300         Benice                Praha 22           Praha 10"
      ]
     },
     "execution_count": 190,
     "metadata": {},
     "output_type": "execute_result"
    }
   ],
   "source": [
    "cadastral_area.head()"
   ]
  },
  {
   "cell_type": "code",
   "execution_count": 192,
   "id": "f517c5c4-e1bc-4789-80f0-1e68557ae7cd",
   "metadata": {},
   "outputs": [],
   "source": [
    "df_4 = df_3.merge(cadastral_area[[\"Cadastral_Area\", \"Administrative_District\"]], how=\"left\", left_on=\"neighbourhood\", right_on=\"Cadastral_Area\").drop(\"Cadastral_Area\", axis=1)"
   ]
  },
  {
   "cell_type": "code",
   "execution_count": 194,
   "id": "4c766ade-fa7c-4f4d-896a-c47ed6890d1d",
   "metadata": {},
   "outputs": [
    {
     "data": {
      "text/html": [
       "<div>\n",
       "<style scoped>\n",
       "    .dataframe tbody tr th:only-of-type {\n",
       "        vertical-align: middle;\n",
       "    }\n",
       "\n",
       "    .dataframe tbody tr th {\n",
       "        vertical-align: top;\n",
       "    }\n",
       "\n",
       "    .dataframe thead th {\n",
       "        text-align: right;\n",
       "    }\n",
       "</style>\n",
       "<table border=\"1\" class=\"dataframe\">\n",
       "  <thead>\n",
       "    <tr style=\"text-align: right;\">\n",
       "      <th></th>\n",
       "      <th>id</th>\n",
       "      <th>name</th>\n",
       "      <th>host_id</th>\n",
       "      <th>host_name</th>\n",
       "      <th>neighbourhood</th>\n",
       "      <th>latitude</th>\n",
       "      <th>longitude</th>\n",
       "      <th>room_type</th>\n",
       "      <th>price</th>\n",
       "      <th>minimum_nights</th>\n",
       "      <th>number_of_reviews</th>\n",
       "      <th>last_review</th>\n",
       "      <th>reviews_per_month</th>\n",
       "      <th>calculated_host_listings_count</th>\n",
       "      <th>availability_365</th>\n",
       "      <th>number_of_reviews_ltm</th>\n",
       "      <th>potential_revenue</th>\n",
       "      <th>availability_cat</th>\n",
       "      <th>Administrative_District</th>\n",
       "    </tr>\n",
       "  </thead>\n",
       "  <tbody>\n",
       "    <tr>\n",
       "      <th>4949</th>\n",
       "      <td>863739765485398783</td>\n",
       "      <td>NEW Rooftop airbnb : Private Terrace! CITY Cen...</td>\n",
       "      <td>10680564</td>\n",
       "      <td>Tereza &amp; Friends</td>\n",
       "      <td>Praha 1</td>\n",
       "      <td>50.07949</td>\n",
       "      <td>14.41704</td>\n",
       "      <td>Entire home/apt</td>\n",
       "      <td>1629.00000</td>\n",
       "      <td>1</td>\n",
       "      <td>78</td>\n",
       "      <td>2025-02-24</td>\n",
       "      <td>3.48000</td>\n",
       "      <td>70</td>\n",
       "      <td>85</td>\n",
       "      <td>56</td>\n",
       "      <td>422155.35000</td>\n",
       "      <td>low</td>\n",
       "      <td>Praha 1</td>\n",
       "    </tr>\n",
       "  </tbody>\n",
       "</table>\n",
       "</div>"
      ],
      "text/plain": [
       "                      id                                               name  \\\n",
       "4949  863739765485398783  NEW Rooftop airbnb : Private Terrace! CITY Cen...   \n",
       "\n",
       "       host_id         host_name neighbourhood  latitude  longitude  \\\n",
       "4949  10680564  Tereza & Friends       Praha 1  50.07949   14.41704   \n",
       "\n",
       "            room_type      price  minimum_nights  number_of_reviews  \\\n",
       "4949  Entire home/apt 1629.00000               1                 78   \n",
       "\n",
       "     last_review  reviews_per_month  calculated_host_listings_count  \\\n",
       "4949  2025-02-24            3.48000                              70   \n",
       "\n",
       "      availability_365  number_of_reviews_ltm  potential_revenue  \\\n",
       "4949                85                     56       422155.35000   \n",
       "\n",
       "     availability_cat Administrative_District  \n",
       "4949              low                 Praha 1  "
      ]
     },
     "execution_count": 194,
     "metadata": {},
     "output_type": "execute_result"
    }
   ],
   "source": [
    "df_4[\"Administrative_District\"] = df_4[\"Administrative_District\"].fillna(df_4[\"neighbourhood\"])\n",
    "df_4.sample()"
   ]
  },
  {
   "cell_type": "markdown",
   "id": "5e58c0f3-2c74-4a5a-9278-1d4bdbe17943",
   "metadata": {},
   "source": [
    "### 3. Saving the Dateframes to CSV"
   ]
  },
  {
   "cell_type": "code",
   "execution_count": 197,
   "id": "b2543970-0e22-4b33-a0af-737b59ac887a",
   "metadata": {},
   "outputs": [],
   "source": [
    "df_4.to_csv(\"airbnb_listings_cleaned.csv\", index=False)"
   ]
  },
  {
   "cell_type": "code",
   "execution_count": 199,
   "id": "8e54ffe8-b664-4edc-b2fd-84b48e78f628",
   "metadata": {},
   "outputs": [],
   "source": [
    "cadastral_prices.to_csv(\"Prague_selling_prices.csv\", index=False)"
   ]
  },
  {
   "cell_type": "markdown",
   "id": "5cce5b62-f2a7-41fa-a3a9-0c3b947deddc",
   "metadata": {},
   "source": [
    "### 4. Analysis Results"
   ]
  },
  {
   "cell_type": "markdown",
   "id": "1bd7f613-ea05-4c2f-b189-6a29dc2edf6b",
   "metadata": {},
   "source": [
    "Here are the key findings from the Airbnb analysis in Prague:\n",
    "* Increase in Listings: As of March 2025, the number of active Airbnb listings rose to 8,763, showing an upward trend in availability.\n",
    "* Popular Districts: The highest concentration of Airbnb rentals is in Prague 1, followed by Prague 2, 3, and 5.\n",
    "* Profitability of Renting: The most profitable districts for rental investments are Prague 1, Prague 7, and Prague 5, where Airbnb revenues exceed long-term rental profits.\n",
    "* Nightly Rates: The average nightly price for Airbnb listings in Prague 1 is 2,626 Kč, making it the most expensive district for short-term stays.\n",
    "* Real Estate Prices: Prague 1 has the highest apartment prices, reaching nearly 200,000 Kč per square meter, making it the most expensive district for property purchases.\n",
    "* Return on Investment: Prague 9 has the shortest return rate of 14.6 years, followed by Prague 8 (15 years) and Prague 7 (16.4 years)."
   ]
  },
  {
   "cell_type": "markdown",
   "id": "fb62b49d-93de-4ad5-91a8-92107a8f7fd6",
   "metadata": {},
   "source": [
    "#### Tableau visualization"
   ]
  },
  {
   "cell_type": "markdown",
   "id": "fb3f88d2-0151-43c4-97cc-90b60622c8b6",
   "metadata": {},
   "source": [
    "Follow this [link on my profile](https://public.tableau.com/views/AirBnBPrague-listingsinvesting_17441981505150/Story1?:language=en-US&:sid=&:redirect=auth&:display_count=n&:origin=viz_share_link)."
   ]
  },
  {
   "cell_type": "markdown",
   "id": "ba6322e9-d3c3-48b8-a253-5464dd4c1ceb",
   "metadata": {},
   "source": [
    "![Airbnb Prague - listings](Tableau-Listings.png)"
   ]
  },
  {
   "cell_type": "markdown",
   "id": "154f267e-e2df-406b-a17a-d73b7d4bc9d6",
   "metadata": {},
   "source": [
    "![Airbnb Prague - investing](Tableau-Investing.png)"
   ]
  }
 ],
 "metadata": {
  "kernelspec": {
   "display_name": "Python [conda env:base] *",
   "language": "python",
   "name": "conda-base-py"
  },
  "language_info": {
   "codemirror_mode": {
    "name": "ipython",
    "version": 3
   },
   "file_extension": ".py",
   "mimetype": "text/x-python",
   "name": "python",
   "nbconvert_exporter": "python",
   "pygments_lexer": "ipython3",
   "version": "3.12.7"
  }
 },
 "nbformat": 4,
 "nbformat_minor": 5
}
